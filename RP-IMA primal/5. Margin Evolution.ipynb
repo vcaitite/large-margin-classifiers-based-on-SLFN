{
 "cells": [
  {
   "cell_type": "code",
   "execution_count": 1,
   "metadata": {},
   "outputs": [],
   "source": [
    "# Imports\n",
    "import matplotlib.pyplot as plt\n",
    "import pandas as pd\n",
    "import numpy as np\n",
    "from math import *\n",
    "from sklearn.model_selection import train_test_split\n",
    "from sklearn.metrics import confusion_matrix, classification_report, accuracy_score, roc_curve, auc\n",
    "from sklearn import datasets\n",
    "from sklearn.preprocessing import MinMaxScaler\n",
    "from sklearn import preprocessing\n",
    "from sklearn.datasets import load_digits\n",
    "import time\n",
    "from sklearn import svm\n",
    "from sklearn.model_selection import GridSearchCV \n",
    "from sklearn.utils import shuffle\n",
    "from sklearn.model_selection import StratifiedKFold, cross_val_score, KFold\n",
    "from scipy.stats import sem\n",
    "from numpy import linalg as LA\n",
    "from copy import deepcopy\n",
    "import warnings\n",
    "warnings.filterwarnings(\"ignore\")"
   ]
  },
  {
   "cell_type": "markdown",
   "metadata": {},
   "source": [
    "## Calculating the margin"
   ]
  },
  {
   "cell_type": "code",
   "execution_count": 2,
   "metadata": {},
   "outputs": [],
   "source": [
    "def compute_margin(X, y, w, b):\n",
    "    margin = []\n",
    "    for i in range(y.shape[0]):\n",
    "        margin.append((y[i]*(np.dot(X[i,:], w)+b))/sqrt(sum(w**2))) \n",
    "    if min(margin) >= 0:\n",
    "        return min(margin)\n",
    "    return 0"
   ]
  },
  {
   "cell_type": "markdown",
   "metadata": {},
   "source": [
    "## ELM-IMA with W_init = [0, ..., 0] "
   ]
  },
  {
   "cell_type": "code",
   "execution_count": 3,
   "metadata": {},
   "outputs": [],
   "source": [
    "import random\n",
    "from sklearn.base import BaseEstimator, ClassifierMixin\n",
    "class ELM_IMA(BaseEstimator, ClassifierMixin):\n",
    "\n",
    "    # Inicialization of important parameters \n",
    "    def __init__(self, n_neurons, eta=0.1, lambda_param=0.01, delta_margin=10^-3,\n",
    "                 IMA_iterations=10, max_updates=10000):\n",
    "        self.n_neurons = n_neurons              # Neurons of hidden layer osf ELM\n",
    "        self.eta = eta                          # Learning rate\n",
    "        self.lambda_param = lambda_param        # Param important of soft margin\n",
    "        self.delta_margin = delta_margin        # (1 + delta_margin) * fixed margin defines the minimum next margin of IMA\n",
    "        self.IMA_iterations = IMA_iterations    # Maximum number of iterations of IMA\n",
    "        self.max_updates = max_updates          # Maximum number of updates in one execution of FMP\n",
    "        self.w = np.array([])                   # Vector of weights of the last layer of the ELM obtained after the training of the IMA\n",
    "        self.w_elm = np.array([])               # Vector of weights of the last layer of the ELM obtained after the normal training of ELM\n",
    "        self.H = np.array([])                   # H matrix of ELM (obtained with training data)\n",
    "        self.Z = np.array([])                   # Z matrix of ELM\n",
    "        self.b = 0\n",
    "\n",
    "    # Fixed Margin Algorithm    \n",
    "    def FMP_algorithm(self, X, y, w_init, b_init, fixed_margin, idx, s):\n",
    "        t = 0\n",
    "        iterations = 0\n",
    "        w = w_init\n",
    "        b = b_init\n",
    "        norm_w = sqrt(sum(w**2))\n",
    "        last_t = -1\n",
    "        lambda_t = 0\n",
    "        alpha = np.zeros((X.shape[0]))\n",
    "        while True:\n",
    "            last_t = t\n",
    "            e=0\n",
    "            for k in range(0, y.shape[0]):\n",
    "                i = int(idx[k])\n",
    "                if(y[i]*(np.dot(X[i,:], w)+b) <= fixed_margin * norm_w - self.lambda_param * alpha[i]):\n",
    "                    if norm_w != 0:\n",
    "                        lambda_t = 1 - (self.eta*fixed_margin)/norm_w\n",
    "                    else:\n",
    "                        lambda_t = 1\n",
    "                    alpha = alpha * lambda_t\n",
    "                    alpha[i] = alpha[i] + self.eta    \n",
    "                    w = w * lambda_t + self.eta * y[i] * X[i,:]\n",
    "                    norm_w = sqrt(sum(w**2))\n",
    "                    b = b + self.eta*y[i]\n",
    "                    t += 1\n",
    "                    e += 1\n",
    "                    if k > s:\n",
    "                        s += 1\n",
    "                        j = s\n",
    "                    else:\n",
    "                        j=e\n",
    "                    idx[k], idx[j] = idx[j], idx[k]\n",
    "            iterations += 1\n",
    "            if (t > self.max_updates or last_t == t):\n",
    "                break\n",
    "        if t<= self.max_updates:\n",
    "            convergence=1\n",
    "        else:\n",
    "            convergence=0\n",
    "        return w, b, convergence, t, iterations, idx, s\n",
    "\n",
    "    # IMA Algorithm\n",
    "    def IM_algorithm(self, X, y):\n",
    "        self.w = np.zeros(self.w_elm.shape[0])\n",
    "        self.ws = [] \n",
    "        self.bs = [] \n",
    "        self.ws.append(self.w)\n",
    "        self.bs.append(self.b)\n",
    "        fixed_margin = 0#compute_margin(X, y, self.w_elm, self.b)\n",
    "        t = 0\n",
    "        convergence = 1\n",
    "        updates=0\n",
    "        iterations=0\n",
    "        margin=[]\n",
    "        margin.append(fixed_margin)\n",
    "        idx = np.linspace(0, y.shape[0]-1, y.shape[0])\n",
    "        s=0\n",
    "        while convergence==1 and t<self.IMA_iterations:\n",
    "            w, b, convergence, updates_, iterations_, idx, s = self.FMP_algorithm(X, y, self.w, self.b, fixed_margin, idx, s)\n",
    "            if convergence == 1:\n",
    "                self.w = w\n",
    "                self.b = b\n",
    "                self.ws.append(self.w)\n",
    "                self.bs.append(self.b)\n",
    "            updates += updates_\n",
    "            iterations += iterations_\n",
    "            norm_w = sqrt(sum(self.w**2))\n",
    "            gamma1 = []\n",
    "            gamma2 = []\n",
    "            for i in range(0, y.shape[0]):\n",
    "                if y[i] == 1:\n",
    "                    gamma1.append((y[i]*(np.dot(X[i], self.w)+self.b))/norm_w)\n",
    "                else:\n",
    "                    gamma2.append((y[i]*(np.dot(X[i], self.w)+self.b))/norm_w)\n",
    "            gamma1 = np.array(gamma1)\n",
    "            gamma2 = np.array(gamma2)\n",
    "            gamma1 = gamma1[gamma1>=0]\n",
    "            gamma2 = gamma2[gamma2>=0]\n",
    "            if len(gamma1) == 0:\n",
    "                min_gamma1 = 0\n",
    "            else:\n",
    "                min_gamma1 = min(gamma1)\n",
    "            if len(gamma2) == 0:\n",
    "                min_gamma2 = 0\n",
    "            else:\n",
    "                min_gamma2 = min(gamma2)\n",
    "            fixed_margin = max([(min_gamma1 + min_gamma2)/2, (1+self.delta_margin)*fixed_margin])\n",
    "            margin.append(compute_margin(X, y, self.w, self.b))\n",
    "            t += 1\n",
    "        return t, updates, iterations, margin\n",
    "\n",
    "    # Function that manage the training of IMA ELM\n",
    "    def fit(self, X, y):\n",
    "        X_new = np.ones((X.shape[0], X.shape[1]+1))\n",
    "        X_new[:,1:] = X\n",
    "        X = X_new\n",
    "        n = X.shape[1]\n",
    "        self.Z = np.array([random.uniform(-1, 1) for i in range(n*self.n_neurons)]).reshape(n, self.n_neurons)\n",
    "        self.H = np.tanh(np.dot(X, self.Z))\n",
    "        w = np.dot(np.linalg.pinv(self.H), y)  \n",
    "        self.w_elm = w.reshape((w.shape[0],))\n",
    "        iterations_IMA, updates, iterations, margin = self.IM_algorithm(self.H, y) \n",
    "        return iterations_IMA, updates, iterations, margin\n",
    "            \n",
    "    # Function to apply IMA ELM model\n",
    "    def predict(self, X, use_IMA_w=True):\n",
    "        X_new = np.ones((X.shape[0], X.shape[1]+1))\n",
    "        X_new[:,1:] = X\n",
    "        H = np.tanh(np.dot(X_new, self.Z))\n",
    "        if use_IMA_w == True:\n",
    "            y_predicted = np.sign(np.dot(H, self.w) + self.b)\n",
    "        else:\n",
    "            y_predicted = np.sign(np.dot(H,  self.w_elm))\n",
    "        y_predicted[y_predicted==0]=-1\n",
    "        return y_predicted"
   ]
  },
  {
   "cell_type": "markdown",
   "metadata": {},
   "source": [
    "## Function to get Results"
   ]
  },
  {
   "cell_type": "code",
   "execution_count": 4,
   "metadata": {},
   "outputs": [],
   "source": [
    "def grid_l(X, y, p):\n",
    "    # GridSearch for lambda and learning rate of IMA ELM\n",
    "    parameters = {'lambda_param':np.linspace(0.01, 100, 50)}\n",
    "    clf = ELM_IMA(n_neurons=p, delta_margin=10^-3, IMA_iterations=20, max_updates=10000)\n",
    "    clf = GridSearchCV(clf, parameters, scoring='accuracy', cv=10, verbose=0)\n",
    "    clf.fit(X, y)\n",
    "    return clf.best_params_['lambda_param']\n",
    "    "
   ]
  },
  {
   "cell_type": "code",
   "execution_count": 5,
   "metadata": {},
   "outputs": [],
   "source": [
    "def results(X, y, n_splits, p, eta, IMA_iterations, lambda_param):      \n",
    "    print(f'Parameters: p={p}, eta={eta}, lambda={lambda_param}')\n",
    "    # Stratified k fold cross validation\n",
    "    kf = StratifiedKFold(n_splits=10, shuffle=True, random_state=72)\n",
    "    i=0\n",
    "    \n",
    "    train_accuracy_IM_ELM = np.zeros(n_splits)\n",
    "    test_accuracy_IM_ELM = np.zeros(n_splits)\n",
    "    margin_IM_ELM = np.zeros(n_splits)\n",
    "    updates = np.zeros(n_splits)\n",
    "    iterations_FMP = np.zeros(n_splits) \n",
    "    iterations_IMA = np.zeros(n_splits)\n",
    "    margins=[]\n",
    "          \n",
    "    for train_index, test_index in kf.split(X, y):\n",
    "        X_train = X[train_index,:]\n",
    "        X_test = X[test_index,:]\n",
    "        y_train = y[train_index]\n",
    "        y_test = y[test_index]\n",
    "               \n",
    "        # ELM-IMA\n",
    "        clf = ELM_IMA(n_neurons=p, eta=eta, lambda_param=lambda_param, delta_margin=10^-3, IMA_iterations=IMA_iterations, max_updates=10000)\n",
    "        iterations_IMA[i], updates[i], iterations_FMP[i], margin = clf.fit(X_train, y_train)\n",
    "        margins.append(margin)\n",
    "        y_hat=clf.predict(X_test, use_IMA_w = True)\n",
    "        y_hat_train=clf.predict(X_train, use_IMA_w = True)\n",
    "        margin_IM_ELM[i] = compute_margin(clf.H[:,:], y_train, clf.w, clf.b)\n",
    "        train_accuracy_IM_ELM[i] = accuracy_score(y_train, y_hat_train)   \n",
    "        test_accuracy_IM_ELM[i] = accuracy_score(y_test, y_hat)\n",
    "        Z = clf.Z\n",
    "                \n",
    "        i+=1\n",
    "        \n",
    "    print(\"********* Results ELM-IMA **************\")\n",
    "    print(\"Acc train: \" + '{:.4f}'.format(train_accuracy_IM_ELM.mean())+ \"+/-\" + '{:.4f}'.format(train_accuracy_IM_ELM.std()))\n",
    "    print(\"Acc test: \" + '{:.4f}'.format(test_accuracy_IM_ELM.mean()) + \"+/-\" + '{:.4f}'.format(test_accuracy_IM_ELM.std()))\n",
    "    print(\"Iterations: \" + '{:.4f}'.format(iterations_FMP.mean())+ \"+/-\" + '{:.4f}'.format(iterations_FMP.std()))\n",
    "    print(\"Iterations IMA: \" + '{:.4f}'.format(iterations_IMA.mean())+ \"+/-\" + '{:.4f}'.format(iterations_IMA.std()))\n",
    "    print(\"Updates: \" + '{:.4f}'.format(updates.mean())+ \"+/-\" + '{:.4f}'.format(updates.std()))\n",
    "    print(\"Margin: \" + '{:.9f}'.format(margin_IM_ELM.mean())+ \"+/-\" + '{:.9f}'.format(margin_IM_ELM.std()))   \n",
    "    return margins"
   ]
  },
  {
   "cell_type": "code",
   "execution_count": 6,
   "metadata": {},
   "outputs": [],
   "source": [
    "def plot_margin_evolution(m):\n",
    "    avg_margins = []\n",
    "    sem_margins = []\n",
    "    for i in range(len(m[0])):\n",
    "        margins = []\n",
    "        for j in range(len(m)):\n",
    "            margins.append(m[j][i]) \n",
    "        avg_margins.append(np.mean(margins))\n",
    "        sem_margins.append(sem(margins))\n",
    "    x = np.array(range(len(avg_margins)))\n",
    "    plt.figure(1)\n",
    "    plt.plot(x, avg_margins)\n",
    "    plt.grid()\n",
    "    plt.figure(2)\n",
    "    plt.errorbar(x, avg_margins, sem_margins, color = 'blue', marker='s', capsize=5)\n",
    "    plt.grid()"
   ]
  },
  {
   "cell_type": "code",
   "execution_count": 7,
   "metadata": {},
   "outputs": [],
   "source": [
    "def run(X,y, l):\n",
    "    # Normalizing data:\n",
    "    normalizer = MinMaxScaler()\n",
    "    X = normalizer.fit_transform(X)\n",
    "    n = len(X)\n",
    "    if n>1000:\n",
    "        n=1000\n",
    "    for p in [n]:\n",
    "        print(f\"Experimento com {p} neurônios:\" )\n",
    "        m = results(X, y, n_splits=10, p=p, eta=0.1, IMA_iterations=20, lambda_param=l)\n",
    "        plot_margin_evolution(m)\n",
    "        print(\"\\n\\n\")"
   ]
  },
  {
   "cell_type": "code",
   "execution_count": 30,
   "metadata": {},
   "outputs": [
    {
     "name": "stdout",
     "output_type": "stream",
     "text": [
      "Experimento com 150 neurônios:\n",
      "Parameters: p=150, eta=0.1, lambda=0.01\n",
      "********* Results ELM-IMA **************\n",
      "Acc train: 1.0000+/-0.0000\n",
      "Acc test: 1.0000+/-0.0000\n",
      "Iterations: 2955.8000+/-804.7235\n",
      "Iterations IMA: 20.0000+/-0.0000\n",
      "Updates: 8056.2000+/-2372.0470\n",
      "Margin: 1.100301725+/-0.072379872\n",
      "\n",
      "\n",
      "\n"
     ]
    },
    {
     "data": {
      "image/png": "[encoded data removed]",
      "text/plain": [
       "<Figure size 432x288 with 1 Axes>"
      ]
     },
     "metadata": {
      "needs_background": "light"
     },
     "output_type": "display_data"
    },
    {
     "data": {
      "image/png": "[encoded data removed]",
      "text/plain": [
       "<Figure size 432x288 with 1 Axes>"
      ]
     },
     "metadata": {
      "needs_background": "light"
     },
     "output_type": "display_data"
    }
   ],
   "source": [
    "iris = datasets.load_iris()\n",
    "X = iris.data\n",
    "# setosa - 0, versicolor - 1, virginica - 2  \n",
    "y = iris.target \n",
    "# O problema agora possui apenas as classes y=-1 e y=1\n",
    "y[y>0] = 1\n",
    "y[y==0] = -1\n",
    "run(X, y, 0.01)\n"
   ]
  },
  {
   "cell_type": "code",
   "execution_count": 31,
   "metadata": {},
   "outputs": [
    {
     "name": "stdout",
     "output_type": "stream",
     "text": [
      "Experimento com 600 neurônios:\n",
      "Parameters: p=600, eta=0.1, lambda=0.41775\n",
      "********* Results ELM-IMA **************\n",
      "Acc train: 1.0000+/-0.0000\n",
      "Acc test: 0.9933+/-0.0111\n",
      "Iterations: 350.2000+/-91.7429\n",
      "Iterations IMA: 20.0000+/-0.0000\n",
      "Updates: 3938.6000+/-1083.1211\n",
      "Margin: 0.544243512+/-0.050718986\n",
      "\n",
      "\n",
      "\n"
     ]
    },
    {
     "data": {
      "image/png": "[encoded data removed]",
      "text/plain": [
       "<Figure size 432x288 with 1 Axes>"
      ]
     },
     "metadata": {
      "needs_background": "light"
     },
     "output_type": "display_data"
    },
    {
     "data": {
      "image/png": "[encoded data removed]",
      "text/plain": [
       "<Figure size 432x288 with 1 Axes>"
      ]
     },
     "metadata": {
      "needs_background": "light"
     },
     "output_type": "display_data"
    }
   ],
   "source": [
    "synthetic_dataset = pd.read_csv('data/synthetic_dataset/synthetic_control.data', sep=\"\\s+\",  header=None, engine='python')\n",
    "X = synthetic_dataset.to_numpy()\n",
    "y = np.concatenate((np.ones(100), np.ones(200)*-1, np.ones(100), np.ones(100)*-1,np.ones(100)))\n",
    "run(X, y, 0.41775)"
   ]
  },
  {
   "cell_type": "code",
   "execution_count": 32,
   "metadata": {},
   "outputs": [
    {
     "name": "stdout",
     "output_type": "stream",
     "text": [
      "Experimento com 1000 neurônios:\n",
      "Parameters: p=1000, eta=0.1, lambda=0.4498\n",
      "********* Results ELM-IMA **************\n",
      "Acc train: 1.0000+/-0.0000\n",
      "Acc test: 1.0000+/-0.0000\n",
      "Iterations: 500.7000+/-121.9804\n",
      "Iterations IMA: 20.0000+/-0.0000\n",
      "Updates: 9538.6000+/-2614.8483\n",
      "Margin: 2.125830219+/-0.057463379\n",
      "\n",
      "\n",
      "\n"
     ]
    },
    {
     "data": {
      "image/png": "[encoded data removed]",
      "text/plain": [
       "<Figure size 432x288 with 1 Axes>"
      ]
     },
     "metadata": {
      "needs_background": "light"
     },
     "output_type": "display_data"
    },
    {
     "data": {
      "image/png": "[encoded data removed]",
      "text/plain": [
       "<Figure size 432x288 with 1 Axes>"
      ]
     },
     "metadata": {
      "needs_background": "light"
     },
     "output_type": "display_data"
    }
   ],
   "source": [
    "df = pd.read_csv('data/Mushroom/agaricus-lepiota.data', delimiter =',', header=None)\n",
    "df = df.replace(\"?\", np.nan) \n",
    "df = df.dropna() \n",
    "y = df[0].to_numpy()\n",
    "X = df.drop([0], axis='columns')\n",
    "X = pd.get_dummies(X).to_numpy()\n",
    "y[np.where(y=='e')] = -1\n",
    "y[np.where(y=='p')] = 1\n",
    "y = np.array(y.tolist())\n",
    "run(X, y, 0.4498)"
   ]
  },
  {
   "cell_type": "code",
   "execution_count": 8,
   "metadata": {},
   "outputs": [
    {
     "name": "stdout",
     "output_type": "stream",
     "text": [
      "Experimento com 1000 neurônios:\n",
      "Parameters: p=1000, eta=0.1, lambda=0.7196856\n",
      "********* Results ELM-IMA **************\n",
      "Acc train: 1.0000+/-0.0000\n",
      "Acc test: 1.0000+/-0.0000\n",
      "Iterations: 429.1000+/-45.4653\n",
      "Iterations IMA: 20.0000+/-0.0000\n",
      "Updates: 6365.0000+/-907.2681\n",
      "Margin: 0.111390523+/-0.010706204\n",
      "\n",
      "\n",
      "\n"
     ]
    },
    {
     "data": {
      "image/png": "[encoded data removed]",
      "text/plain": [
       "<Figure size 432x288 with 1 Axes>"
      ]
     },
     "metadata": {
      "needs_background": "light"
     },
     "output_type": "display_data"
    },
    {
     "data": {
      "image/png": "[encoded data removed]",
      "text/plain": [
       "<Figure size 432x288 with 1 Axes>"
      ]
     },
     "metadata": {
      "needs_background": "light"
     },
     "output_type": "display_data"
    }
   ],
   "source": [
    "# read in banknote authentication set\n",
    "banknotes = pd.read_csv('data/banknote/data_banknote_authentication.txt', names=['variance', 'skewness', 'curtosis', 'entropy', 'class'])\n",
    "# convert to array\n",
    "X = banknotes[['variance', 'skewness', 'curtosis', 'entropy']].to_numpy()\n",
    "y = banknotes[['class']].to_numpy()\n",
    "y[np.where(y==0)] = -1\n",
    "run(X, y, 0.7196856)"
   ]
  },
  {
   "cell_type": "code",
   "execution_count": null,
   "metadata": {},
   "outputs": [],
   "source": []
  }
 ],
 "metadata": {
  "kernelspec": {
   "display_name": "Python 3",
   "language": "python",
   "name": "python3"
  },
  "language_info": {
   "codemirror_mode": {
    "name": "ipython",
    "version": 3
   },
   "file_extension": ".py",
   "mimetype": "text/x-python",
   "name": "python",
   "nbconvert_exporter": "python",
   "pygments_lexer": "ipython3",
   "version": "3.6.7"
  }
 },
 "nbformat": 4,
 "nbformat_minor": 2
}
