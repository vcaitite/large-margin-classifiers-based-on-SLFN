{
 "cells": [
  {
   "cell_type": "markdown",
   "metadata": {
    "id": "dyP1G9r0kDO2"
   },
   "source": [
    "# Incremental margin algorithm for large margin classifiers"
   ]
  },
  {
   "cell_type": "code",
   "execution_count": 20,
   "metadata": {
    "id": "N1mMqyF5kDO6"
   },
   "outputs": [],
   "source": [
    "# Imports\n",
    "import matplotlib.pyplot as plt\n",
    "import pandas as pd\n",
    "import numpy as np\n",
    "from math import sqrt\n",
    "from sklearn.model_selection import train_test_split\n",
    "from sklearn.metrics import confusion_matrix, classification_report, accuracy_score, roc_curve, auc\n",
    "from sklearn import datasets\n",
    "from sklearn.svm import LinearSVC\n",
    "from sklearn import preprocessing\n",
    "from sklearn.datasets import load_digits\n",
    "import time\n",
    "from sklearn import svm\n",
    "from sklearn.model_selection import GridSearchCV \n",
    "from sklearn.utils import shuffle\n",
    "from sklearn.model_selection import StratifiedKFold, cross_val_score, KFold\n",
    "from scipy.stats import sem\n",
    "from numpy import linalg as LA\n",
    "from copy import deepcopy\n",
    "import warnings\n",
    "warnings.filterwarnings(\"ignore\")"
   ]
  },
  {
   "cell_type": "markdown",
   "metadata": {
    "id": "H1YAuDbBkDO-"
   },
   "source": [
    "## Calculating the margin"
   ]
  },
  {
   "cell_type": "code",
   "execution_count": 21,
   "metadata": {
    "id": "eZvyTFl_kDO_"
   },
   "outputs": [],
   "source": [
    "def compute_margin(X, y, w, b):\n",
    "    margin = []\n",
    "    for i in range(y.shape[0]):\n",
    "        margin.append((y[i]*(np.dot(X[i,:], w)+b))/sqrt(sum(w**2))) \n",
    "    if min(margin) >= 0:\n",
    "        return min(margin)\n",
    "    return 0"
   ]
  },
  {
   "cell_type": "markdown",
   "metadata": {},
   "source": [
    "## L0 norm"
   ]
  },
  {
   "cell_type": "code",
   "execution_count": 22,
   "metadata": {},
   "outputs": [],
   "source": [
    "def L0_norm(w, threshold):\n",
    "    l0_norm = 0\n",
    "    for wi in w:\n",
    "        if abs(wi) > threshold:\n",
    "            l0_norm += 1\n",
    "    return l0_norm"
   ]
  },
  {
   "cell_type": "markdown",
   "metadata": {
    "id": "7mQ-uGN3kDPB"
   },
   "source": [
    "# ELM"
   ]
  },
  {
   "cell_type": "code",
   "execution_count": 23,
   "metadata": {},
   "outputs": [],
   "source": [
    "def sigmoid(z):\n",
    "    sigmoid = 1.0/(1.0 + np.exp(-z))\n",
    "    return sigmoid "
   ]
  },
  {
   "cell_type": "markdown",
   "metadata": {},
   "source": [
    "## ELM with IM P inf"
   ]
  },
  {
   "cell_type": "code",
   "execution_count": 24,
   "metadata": {},
   "outputs": [],
   "source": [
    "import random\n",
    "from sklearn.base import BaseEstimator, ClassifierMixin\n",
    "\n",
    "class ELM_IMA(BaseEstimator, ClassifierMixin):\n",
    "\n",
    "    # Inicialization of important parameters \n",
    "    def __init__(self, n_neurons, eta=0.1, lambda_param=0.01, delta_margin=10^-3,\n",
    "                 IMA_iterations=10, max_updates=10000, threshold=0.1):\n",
    "        self.n_neurons = n_neurons              # Neurons of hidden layer osf ELM\n",
    "        self.eta = eta                          # Learning rate\n",
    "        self.lambda_param = lambda_param        # Param important of soft margin\n",
    "        self.delta_margin = delta_margin        # (1 + delta_margin) * fixed margin defines the minimum next margin of IMA\n",
    "        self.IMA_iterations = IMA_iterations    # Maximum number of iterations of IMA\n",
    "        self.max_updates = max_updates          # Maximum number of updates in one execution of FMP\n",
    "        self.w = np.array([])                   # Vector of weights of the last layer of the ELM obtained after the training of the IMA\n",
    "        self.w_elm = np.array([])               # Vector of weights of the last layer of the ELM obtained after the normal training of ELM\n",
    "        self.H = np.array([])                   # H matrix of ELM (obtained with training data)\n",
    "        self.Z = np.array([])                   # Z matrix of ELM\n",
    "        self.b = 0\n",
    "        self.threshold = threshold\n",
    "\n",
    "    # Fixed Margin Algorithm    \n",
    "    def FMP_algorithm(self, X, y, w_init, b_init, fixed_margin, idx, s):\n",
    "        t = 0\n",
    "        iterations = 0\n",
    "        w = w_init\n",
    "        b = b_init\n",
    "        w_norm_1 = LA.norm(w, ord=1)\n",
    "        last_t = -1\n",
    "        lambda_t = 0\n",
    "        alpha = np.zeros((X.shape[0]))\n",
    "        while True:\n",
    "            last_t = t\n",
    "            e=0\n",
    "            for k in range(0, y.shape[0]):\n",
    "                i = int(idx[k])\n",
    "                if(y[i]*(np.dot(X[i,:], w)+b) <= fixed_margin * w_norm_1 - self.lambda_param * alpha[i]):\n",
    "                    if w_norm_1 != 0:\n",
    "                        lambda_t = 1 - (self.eta*fixed_margin)/w_norm_1\n",
    "                    else:\n",
    "                        lambda_t = 1\n",
    "                    alpha = alpha * lambda_t\n",
    "                    alpha[i] = alpha[i] + self.eta    \n",
    "                    w = w - self.eta * (fixed_margin * np.sign(w) - y[i] * X[i,:])\n",
    "                    w_norm_1 = LA.norm(w, ord=1)\n",
    "                    b = b + self.eta*y[i]\n",
    "                    t += 1\n",
    "                    e += 1\n",
    "                    if k > s:\n",
    "                        s += 1\n",
    "                        j = s\n",
    "                    else:\n",
    "                        j=e\n",
    "                    idx[k], idx[j] = idx[j], idx[k]\n",
    "            iterations += 1\n",
    "            if (t > self.max_updates or last_t == t):\n",
    "                break\n",
    "        if t<= self.max_updates:\n",
    "            convergence=1\n",
    "        else:\n",
    "            convergence=0\n",
    "        return w, b, convergence, t, iterations, idx, s\n",
    "\n",
    "    # IMA Algorithm\n",
    "    def IM_algorithm(self, X, y):\n",
    "        self.w = np.zeros(self.H.shape[1])\n",
    "        self.ws = [] \n",
    "        self.bs = [] \n",
    "        self.ws.append(self.w)\n",
    "        self.bs.append(self.b)\n",
    "        fixed_margin = 0#compute_margin(X, y, self.w_elm, self.b)\n",
    "        t = 0\n",
    "        convergence = 1\n",
    "        updates=0\n",
    "        iterations=0\n",
    "        margin=[]\n",
    "        margin.append(fixed_margin)\n",
    "        idx = np.linspace(0, y.shape[0]-1, y.shape[0])\n",
    "        s=0\n",
    "        l=0\n",
    "        while convergence==1 and t<self.IMA_iterations:\n",
    "            w, b, convergence, updates_, iterations_, idx, s = self.FMP_algorithm(X, y, self.w, self.b, fixed_margin, idx, s)\n",
    "            if convergence == 1:\n",
    "                self.w = w\n",
    "                self.b = b\n",
    "                self.ws.append(self.w)\n",
    "                self.bs.append(self.b)\n",
    "            updates += updates_\n",
    "            iterations += iterations_\n",
    "            norm_w = LA.norm(w, ord=1)\n",
    "            gamma1 = []\n",
    "            gamma2 = []\n",
    "            for i in range(0, y.shape[0]):\n",
    "                if y[i] == 1:\n",
    "                    gamma1.append((y[i]*(np.dot(X[i], self.w)+self.b))/norm_w)\n",
    "                else:\n",
    "                    gamma2.append((y[i]*(np.dot(X[i], self.w)+self.b))/norm_w)\n",
    "            gamma1 = np.array(gamma1)\n",
    "            gamma2 = np.array(gamma2)\n",
    "            gamma1 = gamma1[gamma1>=0]\n",
    "            gamma2 = gamma2[gamma2>=0]\n",
    "            if len(gamma1) == 0:\n",
    "                min_gamma1 = 0\n",
    "            else:\n",
    "                min_gamma1 = min(gamma1)\n",
    "            if len(gamma2) == 0:\n",
    "                min_gamma2 = 0\n",
    "            else:\n",
    "                min_gamma2 = min(gamma2)\n",
    "            fixed_margin = max([(min_gamma1 + min_gamma2)/2, (1+self.delta_margin)*fixed_margin])\n",
    "            #margin.append(compute_margin(X, y, self.w, self.b))\n",
    "            t += 1\n",
    "            l0_norm = 0\n",
    "            remove = []\n",
    "            for i in range(len(self.w)):\n",
    "                if abs(self.w[i]) < self.threshold * self.w.max():\n",
    "                    remove.append(i)\n",
    "            self.w = np.delete(self.w, remove)\n",
    "            self.Z = np.delete(self.Z, remove, axis=1)\n",
    "            self.H = np.delete(self.H, remove, axis=1)\n",
    "            X = np.delete(X, remove, axis=1)\n",
    "        return t, updates, iterations\n",
    "\n",
    "    # Function that manage the training of IMA ELM\n",
    "    def fit(self, X, y, Z=[]):\n",
    "        X_new = np.ones((X.shape[0], X.shape[1]+1))\n",
    "        X_new[:,1:] = X\n",
    "        X = X_new\n",
    "        n = X.shape[1]\n",
    "        if len(Z) == 0:\n",
    "            self.Z = np.array([random.uniform(-0.5, 0.5) for i in range(n*self.n_neurons)]).reshape(n, self.n_neurons)\n",
    "        else:\n",
    "            self.Z = Z\n",
    "        self.H = np.tanh(np.dot(X, self.Z))\n",
    "        #w = np.dot(np.linalg.pinv(self.H), y)  \n",
    "        #self.w_elm = w.reshape((w.shape[0],))\n",
    "        iterations_IMA, updates, iterations = self.IM_algorithm(self.H, y) \n",
    "        return iterations_IMA, updates, iterations\n",
    "            \n",
    "    # Function to apply IMA ELM model\n",
    "    def predict(self, X, use_IMA_w=True):\n",
    "        X_new = np.ones((X.shape[0], X.shape[1]+1))\n",
    "        X_new[:,1:] = X\n",
    "        H = np.tanh(np.dot(X_new, self.Z))\n",
    "        if use_IMA_w == True:\n",
    "            y_predicted = np.sign(np.dot(H, self.w) + self.b)\n",
    "        #else:\n",
    "        #    y_predicted = np.sign(np.dot(H,  self.w_elm))\n",
    "        y_predicted[y_predicted==0]=-1\n",
    "        return y_predicted"
   ]
  },
  {
   "cell_type": "markdown",
   "metadata": {
    "id": "qGgtVO-SkDPH"
   },
   "source": [
    "## Commom ELM"
   ]
  },
  {
   "cell_type": "code",
   "execution_count": 25,
   "metadata": {
    "id": "hQdXLRz_kDPI"
   },
   "outputs": [],
   "source": [
    "class ELM(BaseEstimator, ClassifierMixin):\n",
    "         \n",
    "    def __init__(self, n_neurons):\n",
    "        self.n_neurons = n_neurons\n",
    "    \n",
    "    def fit(self, X, y, Z=[]):\n",
    "        X_new = np.ones((X.shape[0], X.shape[1]+1))\n",
    "        X_new[:,1:] = X\n",
    "        X = X_new\n",
    "        n = X.shape[1]\n",
    "        if len(Z) == 0:\n",
    "            self.Z = np.array([random.uniform(-0.5, 0.5) for i in range(n*self.n_neurons)]).reshape(n, self.n_neurons)\n",
    "        else:\n",
    "            self.Z = Z\n",
    "        self.H = np.tanh(np.dot(X, self.Z))\n",
    "        self.w = np.dot(np.linalg.pinv(self.H), y)  \n",
    "        return self.w, self.H, self.Z\n",
    "            \n",
    "    def predict(self, X):\n",
    "        X_new = np.ones((X.shape[0], X.shape[1]+1))\n",
    "        X_new[:,1:] = X\n",
    "        H = np.tanh(np.dot(X_new, self.Z))\n",
    "        y_predicted = np.sign(np.dot(H, self.w))\n",
    "        y_predicted[y_predicted==0]=1\n",
    "        return y_predicted"
   ]
  },
  {
   "cell_type": "markdown",
   "metadata": {},
   "source": [
    "## Function to Capture Results"
   ]
  },
  {
   "cell_type": "code",
   "execution_count": 26,
   "metadata": {},
   "outputs": [],
   "source": [
    "def grid_l(X, y, p):\n",
    "    # GridSearch for lambda and learning rate of IMA ELM\n",
    "    parameters = {'lambda_param':np.linspace(0.01, 10, 50)}\n",
    "    clf = ELM_IMA(n_neurons=p, delta_margin=10^-3, IMA_iterations=10, max_updates=10000)\n",
    "    clf = GridSearchCV(clf, parameters, scoring='accuracy', cv=5, verbose=0)\n",
    "    clf.fit(X, y)\n",
    "    return clf.best_params_['lambda_param']"
   ]
  },
  {
   "cell_type": "code",
   "execution_count": 27,
   "metadata": {},
   "outputs": [],
   "source": [
    "def results(X, y, n_splits, p, eta, IMA_iterations, lambda_param):      \n",
    "    print(f'Parameters: p={p}, eta={eta}, lambda={lambda_param}')\n",
    "    # Stratified k fold cross validation\n",
    "    kf = StratifiedKFold(n_splits=10, shuffle=True, random_state=72)\n",
    "    i=0\n",
    "    \n",
    "    train_accuracy_IM_ELM_02 = np.zeros(n_splits)\n",
    "    test_accuracy_IM_ELM_02 = np.zeros(n_splits)\n",
    "    margin_IM_ELM_02 = np.zeros(n_splits)\n",
    "    updates_02 = np.zeros(n_splits)\n",
    "    iterations_FMP_02 = np.zeros(n_splits) \n",
    "    iterations_IMA_02 = np.zeros(n_splits)\n",
    "    hidden_neurons_02 = np.zeros(n_splits)\n",
    "    \n",
    "    train_accuracy_IM_ELM_01 = np.zeros(n_splits)\n",
    "    test_accuracy_IM_ELM_01 = np.zeros(n_splits)\n",
    "    margin_IM_ELM_01 = np.zeros(n_splits)\n",
    "    updates_01 = np.zeros(n_splits)\n",
    "    iterations_FMP_01 = np.zeros(n_splits) \n",
    "    iterations_IMA_01 = np.zeros(n_splits)\n",
    "    hidden_neurons_01 = np.zeros(n_splits)\n",
    "    \n",
    "    train_accuracy_IM_ELM_001 = np.zeros(n_splits)\n",
    "    test_accuracy_IM_ELM_001 = np.zeros(n_splits)\n",
    "    margin_IM_ELM_001 = np.zeros(n_splits)\n",
    "    updates_001 = np.zeros(n_splits)\n",
    "    iterations_FMP_001 = np.zeros(n_splits) \n",
    "    iterations_IMA_001 = np.zeros(n_splits)\n",
    "    hidden_neurons_001 = np.zeros(n_splits)\n",
    "    \n",
    "    train_accuracy_IM_ELM_0001 = np.zeros(n_splits)\n",
    "    test_accuracy_IM_ELM_0001 = np.zeros(n_splits)\n",
    "    margin_IM_ELM_0001 = np.zeros(n_splits)\n",
    "    updates_0001 = np.zeros(n_splits)\n",
    "    iterations_FMP_0001 = np.zeros(n_splits) \n",
    "    iterations_IMA_0001 = np.zeros(n_splits)\n",
    "    hidden_neurons_0001 = np.zeros(n_splits)\n",
    "    \n",
    "    train_accuracy_ELM = np.zeros(n_splits)\n",
    "    test_accuracy_ELM = np.zeros(n_splits)\n",
    "    margin_ELM = np.zeros(n_splits)\n",
    "        \n",
    "    for train_index, test_index in kf.split(X, y):\n",
    "        X_train = X[train_index,:]\n",
    "        X_test = X[test_index,:]\n",
    "        y_train = y[train_index]\n",
    "        y_test = y[test_index]\n",
    "               \n",
    "        # ELM\n",
    "        clf = ELM(n_neurons=p)\n",
    "        clf.fit(X_train, y_train)\n",
    "        y_hat=clf.predict(X_test)\n",
    "        y_hat_train=clf.predict(X_train)\n",
    "        margin_ELM[i] = compute_margin(clf.H[:,:], y_train, clf.w, 0)\n",
    "        train_accuracy_ELM[i] = accuracy_score(y_train, y_hat_train)   \n",
    "        test_accuracy_ELM[i] = accuracy_score(y_test, y_hat)\n",
    "        Z = clf.Z\n",
    "        \n",
    "        # ELM-IMA 0.2\n",
    "        clf_02 = ELM_IMA(n_neurons=p, eta=eta, lambda_param=lambda_param, delta_margin=10^-3,\n",
    "                      IMA_iterations=IMA_iterations, max_updates=10000, threshold=0.2)\n",
    "        iterations_IMA_02[i], updates_02[i], iterations_FMP_02[i] = clf_02.fit(X_train, y_train, Z)\n",
    "        y_hat=clf_02.predict(X_test, use_IMA_w = True)\n",
    "        y_hat_train=clf_02.predict(X_train, use_IMA_w = True)\n",
    "        margin_IM_ELM_02[i] = compute_margin(clf_02.H[:,:], y_train, clf_02.w, clf_02.b)\n",
    "        train_accuracy_IM_ELM_02[i] = accuracy_score(y_train, y_hat_train)   \n",
    "        test_accuracy_IM_ELM_02[i] = accuracy_score(y_test, y_hat)\n",
    "        hidden_neurons_02[i] = len(clf_02.w)\n",
    "        \n",
    "        # ELM-IMA 0.1\n",
    "        clf_01 = ELM_IMA(n_neurons=p, eta=eta, lambda_param=lambda_param, delta_margin=10^-3,\n",
    "                      IMA_iterations=IMA_iterations, max_updates=10000, threshold=0.1)\n",
    "        iterations_IMA_01[i], updates_01[i], iterations_FMP_01[i] = clf_01.fit(X_train, y_train, Z)\n",
    "        y_hat=clf_01.predict(X_test, use_IMA_w = True)\n",
    "        y_hat_train=clf_01.predict(X_train, use_IMA_w = True)\n",
    "        margin_IM_ELM_01[i] = compute_margin(clf_01.H[:,:], y_train, clf_01.w, clf_01.b)\n",
    "        train_accuracy_IM_ELM_01[i] = accuracy_score(y_train, y_hat_train)   \n",
    "        test_accuracy_IM_ELM_01[i] = accuracy_score(y_test, y_hat)\n",
    "        hidden_neurons_01[i] = len(clf_01.w)\n",
    "        \n",
    "                \n",
    "        # ELM-IMA 0.01\n",
    "        clf_001 = ELM_IMA(n_neurons=p, eta=eta, lambda_param=lambda_param, delta_margin=10^-3,\n",
    "                      IMA_iterations=IMA_iterations, max_updates=10000, threshold=0.01)\n",
    "        iterations_IMA_001[i], updates_001[i], iterations_FMP_001[i] = clf_001.fit(X_train, y_train, Z)\n",
    "        y_hat=clf_001.predict(X_test, use_IMA_w = True)\n",
    "        y_hat_train=clf_001.predict(X_train, use_IMA_w = True)\n",
    "        margin_IM_ELM_001[i] = compute_margin(clf_001.H[:,:], y_train, clf_001.w, clf_001.b)\n",
    "        train_accuracy_IM_ELM_001[i] = accuracy_score(y_train, y_hat_train)   \n",
    "        test_accuracy_IM_ELM_001[i] = accuracy_score(y_test, y_hat)\n",
    "        hidden_neurons_001[i] = len(clf_001.w)\n",
    "\n",
    "        # ELM-IMA 0.001\n",
    "        clf_0001 = ELM_IMA(n_neurons=p, eta=eta, lambda_param=lambda_param, delta_margin=10^-3,\n",
    "                      IMA_iterations=IMA_iterations, max_updates=10000, threshold=0.001)\n",
    "        iterations_IMA_0001[i], updates_0001[i], iterations_FMP_0001[i] = clf_0001.fit(X_train, y_train, Z)\n",
    "        y_hat=clf_0001.predict(X_test, use_IMA_w = True)\n",
    "        y_hat_train=clf_0001.predict(X_train, use_IMA_w = True)\n",
    "        margin_IM_ELM_0001[i] = compute_margin(clf_0001.H[:,:], y_train, clf_0001.w, clf_0001.b)\n",
    "        train_accuracy_IM_ELM_0001[i] = accuracy_score(y_train, y_hat_train)   \n",
    "        test_accuracy_IM_ELM_0001[i] = accuracy_score(y_test, y_hat)\n",
    "        hidden_neurons_0001[i] = len(clf_0001.w)       \n",
    "        i+=1\n",
    "    \n",
    "    print(\"********* Results ELM-IMA 0.2**************\")\n",
    "    print(\"Acc train: \" + '{:.4f}'.format(train_accuracy_IM_ELM_02.mean())+ \"+/-\" + '{:.4f}'.format(train_accuracy_IM_ELM_02.std()))\n",
    "    print(\"Acc test: \" + '{:.4f}'.format(test_accuracy_IM_ELM_02.mean()) + \"+/-\" + '{:.4f}'.format(test_accuracy_IM_ELM_02.std()))\n",
    "    print(\"Iterations: \" + '{:.4f}'.format(iterations_FMP_02.mean())+ \"+/-\" + '{:.4f}'.format(iterations_FMP_02.std()))\n",
    "    print(\"Iterations IMA: \" + '{:.4f}'.format(iterations_IMA_02.mean())+ \"+/-\" + '{:.4f}'.format(iterations_IMA_02.std()))\n",
    "    print(\"Updates: \" + '{:.4f}'.format(updates_02.mean())+ \"+/-\" + '{:.4f}'.format(updates_02.std()))\n",
    "    print(\"Margin: \" + '{:.9f}'.format(margin_IM_ELM_02.mean())+ \"+/-\" + '{:.9f}'.format(margin_IM_ELM_02.std()))\n",
    "    print(\"Hidden Neurons: \" + '{:.2f}'.format(hidden_neurons_02.mean()) + \"+/-\" + '{:.2f}'.format(hidden_neurons_02.std()))\n",
    "    \n",
    "    print(\"********* Results ELM-IMA 0.1**************\")\n",
    "    print(\"Acc train: \" + '{:.4f}'.format(train_accuracy_IM_ELM_01.mean())+ \"+/-\" + '{:.4f}'.format(train_accuracy_IM_ELM_01.std()))\n",
    "    print(\"Acc test: \" + '{:.4f}'.format(test_accuracy_IM_ELM_01.mean()) + \"+/-\" + '{:.4f}'.format(test_accuracy_IM_ELM_01.std()))\n",
    "    print(\"Iterations: \" + '{:.4f}'.format(iterations_FMP_01.mean())+ \"+/-\" + '{:.4f}'.format(iterations_FMP_01.std()))\n",
    "    print(\"Iterations IMA: \" + '{:.4f}'.format(iterations_IMA_01.mean())+ \"+/-\" + '{:.4f}'.format(iterations_IMA_01.std()))\n",
    "    print(\"Updates: \" + '{:.4f}'.format(updates_01.mean())+ \"+/-\" + '{:.4f}'.format(updates_01.std()))\n",
    "    print(\"Margin: \" + '{:.9f}'.format(margin_IM_ELM_01.mean())+ \"+/-\" + '{:.9f}'.format(margin_IM_ELM_01.std()))\n",
    "    print(\"Hidden Neurons: \" + '{:.2f}'.format(hidden_neurons_01.mean()) + \"+/-\" + '{:.2f}'.format(hidden_neurons_01.std()))\n",
    "    \n",
    "    print(\"********* Results ELM-IMA 0.01**************\")\n",
    "    print(\"Acc train: \" + '{:.4f}'.format(train_accuracy_IM_ELM_001.mean())+ \"+/-\" + '{:.4f}'.format(train_accuracy_IM_ELM_001.std()))\n",
    "    print(\"Acc test: \" + '{:.4f}'.format(test_accuracy_IM_ELM_001.mean()) + \"+/-\" + '{:.4f}'.format(test_accuracy_IM_ELM_001.std()))\n",
    "    print(\"Iterations: \" + '{:.4f}'.format(iterations_FMP_001.mean())+ \"+/-\" + '{:.4f}'.format(iterations_FMP_001.std()))\n",
    "    print(\"Iterations IMA: \" + '{:.4f}'.format(iterations_IMA_001.mean())+ \"+/-\" + '{:.4f}'.format(iterations_IMA_001.std()))\n",
    "    print(\"Updates: \" + '{:.4f}'.format(updates_001.mean())+ \"+/-\" + '{:.4f}'.format(updates_001.std()))\n",
    "    print(\"Margin: \" + '{:.9f}'.format(margin_IM_ELM_001.mean())+ \"+/-\" + '{:.9f}'.format(margin_IM_ELM_001.std()))\n",
    "    print(\"Hidden Neurons: \" + '{:.2f}'.format(hidden_neurons_001.mean()) + \"+/-\" + '{:.2f}'.format(hidden_neurons_001.std()))\n",
    "    \n",
    "    print(\"********* Results ELM-IMA 0.001**************\")\n",
    "    print(\"Acc train: \" + '{:.4f}'.format(train_accuracy_IM_ELM_0001.mean())+ \"+/-\" + '{:.4f}'.format(train_accuracy_IM_ELM_0001.std()))\n",
    "    print(\"Acc test: \" + '{:.4f}'.format(test_accuracy_IM_ELM_0001.mean()) + \"+/-\" + '{:.4f}'.format(test_accuracy_IM_ELM_0001.std()))\n",
    "    print(\"Iterations: \" + '{:.4f}'.format(iterations_FMP_0001.mean())+ \"+/-\" + '{:.4f}'.format(iterations_FMP_0001.std()))\n",
    "    print(\"Iterations IMA: \" + '{:.4f}'.format(iterations_IMA_0001.mean())+ \"+/-\" + '{:.4f}'.format(iterations_IMA_0001.std()))\n",
    "    print(\"Updates: \" + '{:.4f}'.format(updates_0001.mean())+ \"+/-\" + '{:.4f}'.format(updates_0001.std()))\n",
    "    print(\"Margin: \" + '{:.9f}'.format(margin_IM_ELM_0001.mean())+ \"+/-\" + '{:.9f}'.format(margin_IM_ELM_0001.std()))\n",
    "    print(\"Hidden Neurons: \" + '{:.2f}'.format(hidden_neurons_0001.mean()) + \"+/-\" + '{:.2f}'.format(hidden_neurons_0001.std()))\n",
    "            \n",
    "    print(\"********* Results ELM **************\")\n",
    "    print(\"Acc train: \" + '{:.4f}'.format(train_accuracy_ELM.mean())+ \"+/-\" + '{:.4f}'.format(train_accuracy_ELM.std()))\n",
    "    print(\"Acc test: \" + '{:.4f}'.format(test_accuracy_ELM.mean()) + \"+/-\" + '{:.4f}'.format(test_accuracy_ELM.std()))\n",
    "    print(\"Margin: \" + '{:.9f}'.format(margin_ELM.mean())+  \"+/-\" + '{:.9f}'.format(margin_ELM.std()))  "
   ]
  },
  {
   "cell_type": "code",
   "execution_count": 28,
   "metadata": {},
   "outputs": [],
   "source": [
    "def run(X,y):\n",
    "    # Normalizing data:\n",
    "    X = preprocessing.normalize(X, axis=0)\n",
    "    n = len(X)\n",
    "    if n>1000:\n",
    "        n=1000\n",
    "    for p in [n]:\n",
    "        l = grid_l(X, y, p=p)\n",
    "        print(f\"Experimento com {p} neurônios:\" )\n",
    "        results(X, y, n_splits=10, p=p, eta=0.1, IMA_iterations=20, lambda_param=l)\n",
    "        print(\"\\n\\n\")"
   ]
  },
  {
   "cell_type": "markdown",
   "metadata": {
    "id": "QGsjlM93gUvW"
   },
   "source": [
    "## Application on Iris Dataset\n"
   ]
  },
  {
   "cell_type": "code",
   "execution_count": 29,
   "metadata": {
    "colab": {
     "base_uri": "https://localhost:8080/"
    },
    "id": "pRYAEinhgT0X",
    "outputId": "14dd5de2-37b1-49c2-ff7a-f8d254b84f22"
   },
   "outputs": [
    {
     "name": "stdout",
     "output_type": "stream",
     "text": [
      "Experimento com 150 neurônios:\n",
      "Parameters: p=150, eta=0.1, lambda=0.01\n",
      "********* Results ELM-IMA 0.2**************\n",
      "Acc train: 0.9985+/-0.0030\n",
      "Acc test: 0.9933+/-0.0200\n",
      "Iterations: 695.0000+/-120.1815\n",
      "Iterations IMA: 20.0000+/-0.0000\n",
      "Updates: 3882.4000+/-461.5589\n",
      "Margin: 0.039109676+/-0.019798457\n",
      "Hidden Neurons: 21.10+/-3.53\n",
      "********* Results ELM-IMA 0.1**************\n",
      "Acc train: 1.0000+/-0.0000\n",
      "Acc test: 1.0000+/-0.0000\n",
      "Iterations: 666.7000+/-219.8240\n",
      "Iterations IMA: 20.0000+/-0.0000\n",
      "Updates: 3550.4000+/-1064.6719\n",
      "Margin: 0.050484005+/-0.008452262\n",
      "Hidden Neurons: 31.90+/-9.74\n",
      "********* Results ELM-IMA 0.01**************\n",
      "Acc train: 1.0000+/-0.0000\n",
      "Acc test: 1.0000+/-0.0000\n",
      "Iterations: 667.2000+/-190.3932\n",
      "Iterations IMA: 20.0000+/-0.0000\n",
      "Updates: 4052.7000+/-1333.2539\n",
      "Margin: 0.055758337+/-0.003721812\n",
      "Hidden Neurons: 48.80+/-15.24\n",
      "********* Results ELM-IMA 0.001**************\n",
      "Acc train: 1.0000+/-0.0000\n",
      "Acc test: 1.0000+/-0.0000\n",
      "Iterations: 754.2000+/-369.7650\n",
      "Iterations IMA: 20.0000+/-0.0000\n",
      "Updates: 4667.7000+/-1737.5303\n",
      "Margin: 0.055685835+/-0.005171995\n",
      "Hidden Neurons: 81.30+/-23.32\n",
      "********* Results ELM **************\n",
      "Acc train: 1.0000+/-0.0000\n",
      "Acc test: 0.9867+/-0.0267\n",
      "Margin: 0.000000000+/-0.000000000\n",
      "\n",
      "\n",
      "\n"
     ]
    }
   ],
   "source": [
    "iris = datasets.load_iris()\n",
    "X = iris.data\n",
    "# setosa - 0, versicolor - 1, virginica - 2  \n",
    "y = iris.target \n",
    "# O problema agora possui apenas as classes y=-1 e y=1\n",
    "y[y>0] = 1\n",
    "y[y==0] = -1\n",
    "run(X, y)"
   ]
  },
  {
   "cell_type": "markdown",
   "metadata": {
    "id": "q_F6-t8hFB_q"
   },
   "source": [
    "## Application on Synthetic Dataset"
   ]
  },
  {
   "cell_type": "code",
   "execution_count": 30,
   "metadata": {
    "colab": {
     "base_uri": "https://localhost:8080/"
    },
    "id": "Weyz8rxWFBIt",
    "outputId": "1ff193d4-c0ab-43c7-b90e-b1621657cdbc"
   },
   "outputs": [
    {
     "name": "stdout",
     "output_type": "stream",
     "text": [
      "Experimento com 600 neurônios:\n",
      "Parameters: p=600, eta=0.1, lambda=0.01\n",
      "********* Results ELM-IMA 0.2**************\n",
      "Acc train: 0.9611+/-0.1130\n",
      "Acc test: 0.9600+/-0.1091\n",
      "Iterations: 905.3000+/-388.8429\n",
      "Iterations IMA: 20.0000+/-0.0000\n",
      "Updates: 7764.9000+/-4060.8808\n",
      "Margin: 0.019935174+/-0.012761510\n",
      "Hidden Neurons: 121.60+/-45.71\n",
      "********* Results ELM-IMA 0.1**************\n",
      "Acc train: 1.0000+/-0.0000\n",
      "Acc test: 0.9967+/-0.0067\n",
      "Iterations: 488.7000+/-394.5337\n",
      "Iterations IMA: 20.0000+/-0.0000\n",
      "Updates: 4301.9000+/-3285.1707\n",
      "Margin: 0.028672535+/-0.009452073\n",
      "Hidden Neurons: 279.60+/-71.78\n",
      "********* Results ELM-IMA 0.01**************\n",
      "Acc train: 1.0000+/-0.0000\n",
      "Acc test: 0.9967+/-0.0067\n",
      "Iterations: 315.6000+/-112.0323\n",
      "Iterations IMA: 20.0000+/-0.0000\n",
      "Updates: 3474.8000+/-1601.1547\n",
      "Margin: 0.030319826+/-0.004875722\n",
      "Hidden Neurons: 462.20+/-40.98\n",
      "********* Results ELM-IMA 0.001**************\n",
      "Acc train: 1.0000+/-0.0000\n",
      "Acc test: 0.9983+/-0.0050\n",
      "Iterations: 483.3000+/-302.9647\n",
      "Iterations IMA: 20.0000+/-0.0000\n",
      "Updates: 4450.3000+/-2563.2892\n",
      "Margin: 0.033369020+/-0.007192007\n",
      "Hidden Neurons: 521.40+/-33.28\n",
      "********* Results ELM **************\n",
      "Acc train: 1.0000+/-0.0000\n",
      "Acc test: 0.7550+/-0.0402\n",
      "Margin: 0.000026763+/-0.000003184\n",
      "\n",
      "\n",
      "\n"
     ]
    }
   ],
   "source": [
    "synthetic_dataset = pd.read_csv('data/synthetic_dataset/synthetic_control.data', sep=\"\\s+\",  header=None, engine='python')\n",
    "X = synthetic_dataset.to_numpy()\n",
    "y = np.concatenate((np.ones(100), np.ones(200)*-1, np.ones(100), np.ones(100)*-1,np.ones(100)))\n",
    "run(X, y)"
   ]
  },
  {
   "cell_type": "markdown",
   "metadata": {
    "id": "YEyDIiTZoGap"
   },
   "source": [
    "## Application on Robot  Dataset\n",
    "\n"
   ]
  },
  {
   "cell_type": "code",
   "execution_count": 31,
   "metadata": {
    "colab": {
     "base_uri": "https://localhost:8080/"
    },
    "id": "rUaMED7moS6p",
    "outputId": "1af62482-971b-4204-cd1e-b813d963551a"
   },
   "outputs": [
    {
     "name": "stdout",
     "output_type": "stream",
     "text": [
      "Experimento com 117 neurônios:\n",
      "Parameters: p=117, eta=0.1, lambda=3.2720408163265304\n",
      "********* Results ELM-IMA 0.2**************\n",
      "Acc train: 0.8139+/-0.0438\n",
      "Acc test: 0.7538+/-0.0745\n",
      "Iterations: 229.8000+/-94.5059\n",
      "Iterations IMA: 12.2000+/-6.6903\n",
      "Updates: 6625.7000+/-4676.9033\n",
      "Margin: 0.000000000+/-0.000000000\n",
      "Hidden Neurons: 12.40+/-8.69\n",
      "********* Results ELM-IMA 0.1**************\n",
      "Acc train: 0.8186+/-0.0459\n",
      "Acc test: 0.7697+/-0.0517\n",
      "Iterations: 374.9000+/-225.5635\n",
      "Iterations IMA: 12.7000+/-6.3411\n",
      "Updates: 6881.9000+/-4826.2452\n",
      "Margin: 0.000000000+/-0.000000000\n",
      "Hidden Neurons: 25.60+/-13.32\n",
      "********* Results ELM-IMA 0.01**************\n",
      "Acc train: 0.8224+/-0.0558\n",
      "Acc test: 0.7697+/-0.0517\n",
      "Iterations: 785.3000+/-511.6542\n",
      "Iterations IMA: 16.5000+/-4.7170\n",
      "Updates: 9252.0000+/-6887.5619\n",
      "Margin: 0.000000000+/-0.000000000\n",
      "Hidden Neurons: 60.50+/-15.03\n",
      "********* Results ELM-IMA 0.001**************\n",
      "Acc train: 0.7815+/-0.0913\n",
      "Acc test: 0.7121+/-0.1558\n",
      "Iterations: 560.5000+/-221.5275\n",
      "Iterations IMA: 13.7000+/-6.6340\n",
      "Updates: 6629.2000+/-4619.7924\n",
      "Margin: 0.000000000+/-0.000000000\n",
      "Hidden Neurons: 107.00+/-8.44\n",
      "********* Results ELM **************\n",
      "Acc train: 1.0000+/-0.0000\n",
      "Acc test: 0.6061+/-0.1320\n",
      "Margin: 0.001307362+/-0.000352428\n",
      "\n",
      "\n",
      "\n"
     ]
    }
   ],
   "source": [
    "robot_dataset = pd.read_csv('data/robot/lp4_data.csv', delimiter =',')\n",
    "X = robot_dataset.to_numpy().reshape([117,90])\n",
    "y = np.concatenate((np.ones(24), np.ones(117-24)*-1))\n",
    "run(X, y)"
   ]
  },
  {
   "cell_type": "markdown",
   "metadata": {},
   "source": [
    "## Application on Mushroom Dataset"
   ]
  },
  {
   "cell_type": "code",
   "execution_count": 32,
   "metadata": {},
   "outputs": [
    {
     "name": "stdout",
     "output_type": "stream",
     "text": [
      "Experimento com 1000 neurônios:\n",
      "Parameters: p=1000, eta=0.1, lambda=2.4565306122448978\n",
      "********* Results ELM-IMA 0.2**************\n",
      "Acc train: 1.0000+/-0.0000\n",
      "Acc test: 1.0000+/-0.0000\n",
      "Iterations: 79.0000+/-25.0000\n",
      "Iterations IMA: 20.0000+/-0.0000\n",
      "Updates: 1672.8000+/-452.0473\n",
      "Margin: 0.070108589+/-0.021139063\n",
      "Hidden Neurons: 363.00+/-55.26\n",
      "********* Results ELM-IMA 0.1**************\n",
      "Acc train: 1.0000+/-0.0000\n",
      "Acc test: 0.9998+/-0.0005\n",
      "Iterations: 72.0000+/-18.9631\n",
      "Iterations IMA: 20.0000+/-0.0000\n",
      "Updates: 1874.0000+/-761.5978\n",
      "Margin: 0.069700504+/-0.021119205\n",
      "Hidden Neurons: 561.80+/-110.90\n",
      "********* Results ELM-IMA 0.01**************\n",
      "Acc train: 1.0000+/-0.0000\n",
      "Acc test: 0.9998+/-0.0005\n",
      "Iterations: 64.0000+/-11.8406\n",
      "Iterations IMA: 20.0000+/-0.0000\n",
      "Updates: 1750.1000+/-668.3682\n",
      "Margin: 0.060044241+/-0.023035318\n",
      "Hidden Neurons: 844.60+/-82.65\n",
      "********* Results ELM-IMA 0.001**************\n",
      "Acc train: 1.0000+/-0.0000\n",
      "Acc test: 0.9998+/-0.0005\n",
      "Iterations: 64.4000+/-12.2000\n",
      "Iterations IMA: 20.0000+/-0.0000\n",
      "Updates: 1738.9000+/-633.1767\n",
      "Margin: 0.061366873+/-0.019710405\n",
      "Hidden Neurons: 929.80+/-43.17\n",
      "********* Results ELM **************\n",
      "Acc train: 1.0000+/-0.0000\n",
      "Acc test: 1.0000+/-0.0000\n",
      "Margin: 0.056833746+/-0.002285370\n",
      "\n",
      "\n",
      "\n"
     ]
    }
   ],
   "source": [
    "df = pd.read_csv('data/Mushroom/agaricus-lepiota.data', delimiter =',', header=None)\n",
    "df = df.replace(\"?\", np.nan) \n",
    "df = df.dropna() \n",
    "y = df[0].to_numpy()\n",
    "X = df.drop([0], axis='columns')\n",
    "X = pd.get_dummies(X).to_numpy()\n",
    "y[np.where(y=='e')] = -1\n",
    "y[np.where(y=='p')] = 1\n",
    "y = np.array(y.tolist())\n",
    "run(X, y)"
   ]
  },
  {
   "cell_type": "markdown",
   "metadata": {},
   "source": [
    "## Application on Ionosphere Dataset"
   ]
  },
  {
   "cell_type": "code",
   "execution_count": 33,
   "metadata": {},
   "outputs": [
    {
     "name": "stdout",
     "output_type": "stream",
     "text": [
      "Experimento com 351 neurônios:\n",
      "Parameters: p=351, eta=0.1, lambda=2.2526530612244895\n",
      "********* Results ELM-IMA 0.2**************\n",
      "Acc train: 0.8968+/-0.0293\n",
      "Acc test: 0.8490+/-0.0528\n",
      "Iterations: 212.5000+/-38.7692\n",
      "Iterations IMA: 20.0000+/-0.0000\n",
      "Updates: 3654.3000+/-390.3207\n",
      "Margin: 0.000000000+/-0.000000000\n",
      "Hidden Neurons: 99.40+/-10.04\n",
      "********* Results ELM-IMA 0.1**************\n",
      "Acc train: 0.9095+/-0.0185\n",
      "Acc test: 0.8747+/-0.0601\n",
      "Iterations: 240.0000+/-31.7112\n",
      "Iterations IMA: 20.0000+/-0.0000\n",
      "Updates: 4771.3000+/-624.9499\n",
      "Margin: 0.000000000+/-0.000000000\n",
      "Hidden Neurons: 162.00+/-10.51\n",
      "********* Results ELM-IMA 0.01**************\n",
      "Acc train: 0.9133+/-0.0182\n",
      "Acc test: 0.8631+/-0.0676\n",
      "Iterations: 278.2000+/-18.5138\n",
      "Iterations IMA: 20.0000+/-0.0000\n",
      "Updates: 6485.4000+/-664.5048\n",
      "Margin: 0.000000000+/-0.000000000\n",
      "Hidden Neurons: 260.30+/-9.84\n",
      "********* Results ELM-IMA 0.001**************\n",
      "Acc train: 0.9006+/-0.0201\n",
      "Acc test: 0.8348+/-0.0596\n",
      "Iterations: 295.1000+/-27.4680\n",
      "Iterations IMA: 20.0000+/-0.0000\n",
      "Updates: 7456.4000+/-835.8168\n",
      "Margin: 0.000000000+/-0.000000000\n",
      "Hidden Neurons: 331.00+/-3.63\n",
      "********* Results ELM **************\n",
      "Acc train: 1.0000+/-0.0000\n",
      "Acc test: 0.7121+/-0.0816\n",
      "Margin: 0.000052294+/-0.000014613\n",
      "\n",
      "\n",
      "\n"
     ]
    }
   ],
   "source": [
    "ionosphere_dataset = pd.read_csv('data/Ionosphere/ionosphere.data', names=list(range(0,35)), sep=',')\n",
    "y = ionosphere_dataset[34].to_numpy()\n",
    "X = ionosphere_dataset.drop([34], axis='columns').to_numpy()\n",
    "y[np.where(y=='g')] = 1\n",
    "y[np.where(y=='b')] = -1\n",
    "y = np.array(y.tolist())\n",
    "run(X, y)"
   ]
  },
  {
   "cell_type": "markdown",
   "metadata": {},
   "source": [
    "## Application on Banknote Dataset"
   ]
  },
  {
   "cell_type": "code",
   "execution_count": 34,
   "metadata": {},
   "outputs": [
    {
     "name": "stdout",
     "output_type": "stream",
     "text": [
      "Experimento com 1000 neurônios:\n",
      "Parameters: p=1000, eta=0.1, lambda=0.41775510204081634\n",
      "********* Results ELM-IMA 0.2**************\n",
      "Acc train: 0.9831+/-0.0116\n",
      "Acc test: 0.9839+/-0.0121\n",
      "Iterations: 903.5000+/-211.4092\n",
      "Iterations IMA: 20.0000+/-0.0000\n",
      "Updates: 20890.5000+/-4639.8608\n",
      "Margin: 0.000000000+/-0.000000000\n",
      "Hidden Neurons: 415.50+/-62.36\n",
      "********* Results ELM-IMA 0.1**************\n",
      "Acc train: 0.9840+/-0.0063\n",
      "Acc test: 0.9840+/-0.0102\n",
      "Iterations: 918.1000+/-498.3572\n",
      "Iterations IMA: 20.0000+/-0.0000\n",
      "Updates: 20863.3000+/-10981.9353\n",
      "Margin: 0.000000000+/-0.000000000\n",
      "Hidden Neurons: 609.40+/-54.28\n",
      "********* Results ELM-IMA 0.01**************\n",
      "Acc train: 0.9837+/-0.0078\n",
      "Acc test: 0.9840+/-0.0166\n",
      "Iterations: 1039.5000+/-404.4805\n",
      "Iterations IMA: 20.0000+/-0.0000\n",
      "Updates: 24598.5000+/-9159.3877\n",
      "Margin: 0.000000000+/-0.000000000\n",
      "Hidden Neurons: 805.30+/-52.67\n",
      "********* Results ELM-IMA 0.001**************\n",
      "Acc train: 0.9826+/-0.0065\n",
      "Acc test: 0.9898+/-0.0088\n",
      "Iterations: 1116.2000+/-196.9705\n",
      "Iterations IMA: 20.0000+/-0.0000\n",
      "Updates: 28027.1000+/-6756.7242\n",
      "Margin: 0.000000000+/-0.000000000\n",
      "Hidden Neurons: 894.40+/-45.39\n",
      "********* Results ELM **************\n",
      "Acc train: 1.0000+/-0.0000\n",
      "Acc test: 1.0000+/-0.0000\n",
      "Margin: 0.000000000+/-0.000000000\n",
      "\n",
      "\n",
      "\n"
     ]
    }
   ],
   "source": [
    "# read in banknote authentication set\n",
    "banknotes = pd.read_csv('data/banknote/data_banknote_authentication.txt', names=['variance', 'skewness', 'curtosis', 'entropy', 'class'])\n",
    "# convert to array\n",
    "X = banknotes[['variance', 'skewness', 'curtosis', 'entropy']].to_numpy()\n",
    "y = banknotes[['class']].to_numpy()\n",
    "y[np.where(y==0)] = -1\n",
    "run(X, y)"
   ]
  },
  {
   "cell_type": "markdown",
   "metadata": {},
   "source": [
    "## Application on Wine Dataset"
   ]
  },
  {
   "cell_type": "code",
   "execution_count": 35,
   "metadata": {},
   "outputs": [
    {
     "name": "stdout",
     "output_type": "stream",
     "text": [
      "Experimento com 178 neurônios:\n",
      "Parameters: p=178, eta=0.1, lambda=0.01\n",
      "********* Results ELM-IMA 0.2**************\n",
      "Acc train: 0.9944+/-0.0169\n",
      "Acc test: 0.9605+/-0.0369\n",
      "Iterations: 1367.9000+/-626.4989\n",
      "Iterations IMA: 20.0000+/-0.0000\n",
      "Updates: 11066.5000+/-4635.1118\n",
      "Margin: 0.005234620+/-0.003339995\n",
      "Hidden Neurons: 67.30+/-14.14\n",
      "********* Results ELM-IMA 0.1**************\n",
      "Acc train: 1.0000+/-0.0000\n",
      "Acc test: 0.9663+/-0.0371\n",
      "Iterations: 1285.5000+/-629.0283\n",
      "Iterations IMA: 20.0000+/-0.0000\n",
      "Updates: 11594.1000+/-5374.1011\n",
      "Margin: 0.006817214+/-0.003032389\n",
      "Hidden Neurons: 98.30+/-21.47\n",
      "********* Results ELM-IMA 0.01**************\n",
      "Acc train: 1.0000+/-0.0000\n",
      "Acc test: 0.9775+/-0.0372\n",
      "Iterations: 1103.8000+/-762.0687\n",
      "Iterations IMA: 20.0000+/-0.0000\n",
      "Updates: 10590.6000+/-5601.6617\n",
      "Margin: 0.006139575+/-0.002803331\n",
      "Hidden Neurons: 145.40+/-19.23\n",
      "********* Results ELM-IMA 0.001**************\n",
      "Acc train: 1.0000+/-0.0000\n",
      "Acc test: 0.9552+/-0.0545\n",
      "Iterations: 1027.4000+/-356.7647\n",
      "Iterations IMA: 20.0000+/-0.0000\n",
      "Updates: 10278.4000+/-3140.1426\n",
      "Margin: 0.005875806+/-0.002549871\n",
      "Hidden Neurons: 168.80+/-5.33\n",
      "********* Results ELM **************\n",
      "Acc train: 1.0000+/-0.0000\n",
      "Acc test: 0.7592+/-0.1016\n",
      "Margin: 0.000002466+/-0.000000623\n",
      "\n",
      "\n",
      "\n"
     ]
    }
   ],
   "source": [
    "wine_dataset = pd.read_csv('data/wine/wine.data', names=['Class', 'Alcohol', 'Malic acid', 'Ash', 'Alcalinity of ash', 'Magnesium', 'Total phenols', 'Flavanoids', 'Nonflavanoid phenols', 'Proanthocyanins', 'Color intensity', 'Hue', 'OD280/OD315', 'Proline'])\n",
    "# convert to array\n",
    "y = wine_dataset[['Class']].to_numpy()\n",
    "X = wine_dataset.drop(\"Class\",axis='columns').to_numpy()\n",
    "y[np.where(y==3)] = 1\n",
    "y[np.where(y==2)] = -1\n",
    "run(X, y)"
   ]
  },
  {
   "cell_type": "markdown",
   "metadata": {},
   "source": [
    "## Application on WDBC Dataset"
   ]
  },
  {
   "cell_type": "code",
   "execution_count": 36,
   "metadata": {},
   "outputs": [
    {
     "name": "stdout",
     "output_type": "stream",
     "text": [
      "Experimento com 569 neurônios:\n",
      "Parameters: p=569, eta=0.1, lambda=1.6410204081632653\n",
      "********* Results ELM-IMA 0.2**************\n",
      "Acc train: 0.9668+/-0.0154\n",
      "Acc test: 0.9648+/-0.0208\n",
      "Iterations: 254.0000+/-36.1967\n",
      "Iterations IMA: 20.0000+/-0.0000\n",
      "Updates: 3354.3000+/-510.4071\n",
      "Margin: 0.000000000+/-0.000000000\n",
      "Hidden Neurons: 144.20+/-29.76\n",
      "********* Results ELM-IMA 0.1**************\n",
      "Acc train: 0.9697+/-0.0126\n",
      "Acc test: 0.9684+/-0.0172\n",
      "Iterations: 277.6000+/-68.1985\n",
      "Iterations IMA: 20.0000+/-0.0000\n",
      "Updates: 3953.2000+/-1026.9285\n",
      "Margin: 0.000000000+/-0.000000000\n",
      "Hidden Neurons: 230.20+/-36.41\n",
      "********* Results ELM-IMA 0.01**************\n",
      "Acc train: 0.9691+/-0.0107\n",
      "Acc test: 0.9614+/-0.0189\n",
      "Iterations: 370.3000+/-102.4325\n",
      "Iterations IMA: 20.0000+/-0.0000\n",
      "Updates: 6041.6000+/-1489.5728\n",
      "Margin: 0.000000000+/-0.000000000\n",
      "Hidden Neurons: 318.90+/-59.03\n",
      "********* Results ELM-IMA 0.001**************\n",
      "Acc train: 0.9705+/-0.0102\n",
      "Acc test: 0.9649+/-0.0175\n",
      "Iterations: 337.0000+/-88.1601\n",
      "Iterations IMA: 20.0000+/-0.0000\n",
      "Updates: 5808.7000+/-1381.4332\n",
      "Margin: 0.000000000+/-0.000000000\n",
      "Hidden Neurons: 479.40+/-25.10\n",
      "********* Results ELM **************\n",
      "Acc train: 1.0000+/-0.0000\n",
      "Acc test: 0.6960+/-0.0487\n",
      "Margin: 0.000001305+/-0.000000153\n",
      "\n",
      "\n",
      "\n"
     ]
    }
   ],
   "source": [
    "wdbc_dataset = pd.read_csv('data/WDBC/wdbc.data', names=list(range(0,32)))\n",
    "# convert to array\n",
    "y = wdbc_dataset[1].to_numpy()\n",
    "X = wdbc_dataset.drop([0, 1],axis='columns').to_numpy()\n",
    "y[np.where(y=='B')] = 1\n",
    "y[np.where(y=='M')] = -1\n",
    "y = np.array(y.tolist())\n",
    "run(X, y)"
   ]
  },
  {
   "cell_type": "markdown",
   "metadata": {},
   "source": [
    "## Application on Sonar Dataset"
   ]
  },
  {
   "cell_type": "code",
   "execution_count": 37,
   "metadata": {},
   "outputs": [
    {
     "name": "stdout",
     "output_type": "stream",
     "text": [
      "Experimento com 208 neurônios:\n",
      "Parameters: p=208, eta=0.1, lambda=9.796122448979592\n",
      "********* Results ELM-IMA 0.2**************\n",
      "Acc train: 0.8595+/-0.0252\n",
      "Acc test: 0.7783+/-0.0836\n",
      "Iterations: 143.0000+/-14.8862\n",
      "Iterations IMA: 20.0000+/-0.0000\n",
      "Updates: 1539.4000+/-133.3921\n",
      "Margin: 0.000000000+/-0.000000000\n",
      "Hidden Neurons: 56.50+/-12.49\n",
      "********* Results ELM-IMA 0.1**************\n",
      "Acc train: 0.8819+/-0.0276\n",
      "Acc test: 0.7490+/-0.0840\n",
      "Iterations: 125.3000+/-18.6657\n",
      "Iterations IMA: 20.0000+/-0.0000\n",
      "Updates: 1526.4000+/-196.1658\n",
      "Margin: 0.000000000+/-0.000000000\n",
      "Hidden Neurons: 90.80+/-10.21\n",
      "********* Results ELM-IMA 0.01**************\n",
      "Acc train: 0.8579+/-0.0285\n",
      "Acc test: 0.7729+/-0.1068\n",
      "Iterations: 143.7000+/-25.4639\n",
      "Iterations IMA: 20.0000+/-0.0000\n",
      "Updates: 1797.5000+/-193.7014\n",
      "Margin: 0.000000000+/-0.000000000\n",
      "Hidden Neurons: 154.80+/-7.22\n",
      "********* Results ELM-IMA 0.001**************\n",
      "Acc train: 0.8621+/-0.0389\n",
      "Acc test: 0.7638+/-0.0867\n",
      "Iterations: 146.0000+/-20.9857\n",
      "Iterations IMA: 20.0000+/-0.0000\n",
      "Updates: 1849.1000+/-224.0935\n",
      "Margin: 0.000000000+/-0.000000000\n",
      "Hidden Neurons: 195.50+/-4.10\n",
      "********* Results ELM **************\n",
      "Acc train: 1.0000+/-0.0000\n",
      "Acc test: 0.6057+/-0.1083\n",
      "Margin: 0.000496140+/-0.000057281\n",
      "\n",
      "\n",
      "\n"
     ]
    }
   ],
   "source": [
    "sonar_dataset = pd.read_csv('data/sonar/sonar.all-data', names=list(range(0,61)), sep=',')\n",
    "y = sonar_dataset[60].to_numpy()\n",
    "X = sonar_dataset.drop([60], axis='columns').to_numpy()\n",
    "y[np.where(y=='R')] = 1\n",
    "y[np.where(y=='M')] = -1\n",
    "y = np.array(y.tolist())\n",
    "run(X, y)"
   ]
  },
  {
   "cell_type": "markdown",
   "metadata": {},
   "source": [
    "## Application on Pima Dataset"
   ]
  },
  {
   "cell_type": "code",
   "execution_count": 38,
   "metadata": {},
   "outputs": [
    {
     "name": "stdout",
     "output_type": "stream",
     "text": [
      "Experimento com 768 neurônios:\n",
      "Parameters: p=768, eta=0.1, lambda=9.388367346938775\n",
      "********* Results ELM-IMA 0.2**************\n",
      "Acc train: 0.7323+/-0.0274\n",
      "Acc test: 0.7085+/-0.0536\n",
      "Iterations: 516.1000+/-346.1894\n",
      "Iterations IMA: 20.0000+/-0.0000\n",
      "Updates: 9889.0000+/-1762.6670\n",
      "Margin: 0.000000000+/-0.000000000\n",
      "Hidden Neurons: 191.90+/-61.06\n",
      "********* Results ELM-IMA 0.1**************\n",
      "Acc train: 0.7406+/-0.0509\n",
      "Acc test: 0.7527+/-0.0645\n",
      "Iterations: 492.2000+/-449.4765\n",
      "Iterations IMA: 20.0000+/-0.0000\n",
      "Updates: 10665.1000+/-2725.0792\n",
      "Margin: 0.000000000+/-0.000000000\n",
      "Hidden Neurons: 304.30+/-99.25\n",
      "********* Results ELM-IMA 0.01**************\n",
      "Acc train: 0.7622+/-0.0142\n",
      "Acc test: 0.7526+/-0.0365\n",
      "Iterations: 481.6000+/-417.5936\n",
      "Iterations IMA: 20.0000+/-0.0000\n",
      "Updates: 12164.4000+/-4277.6175\n",
      "Margin: 0.000000000+/-0.000000000\n",
      "Hidden Neurons: 529.50+/-100.65\n",
      "********* Results ELM-IMA 0.001**************\n",
      "Acc train: 0.7613+/-0.0267\n",
      "Acc test: 0.7670+/-0.0453\n",
      "Iterations: 380.7000+/-245.6046\n",
      "Iterations IMA: 20.0000+/-0.0000\n",
      "Updates: 12469.3000+/-3412.5898\n",
      "Margin: 0.000000000+/-0.000000000\n",
      "Hidden Neurons: 690.40+/-64.15\n",
      "********* Results ELM **************\n",
      "Acc train: 1.0000+/-0.0000\n",
      "Acc test: 0.5313+/-0.0573\n",
      "Margin: 0.000000000+/-0.000000000\n",
      "\n",
      "\n",
      "\n"
     ]
    }
   ],
   "source": [
    "pima_dataset = pd.read_csv('data/diabetes/diabetes.csv', sep=\",\", engine='python')\n",
    "y = pima_dataset['Outcome'].to_numpy()\n",
    "X = pima_dataset.drop(['Outcome'], axis='columns').to_numpy()\n",
    "y[np.where(y==0)] = -1\n",
    "y = np.array(y.tolist())\n",
    "run(X, y)"
   ]
  },
  {
   "cell_type": "markdown",
   "metadata": {},
   "source": [
    "## Application on Statlog Dataset"
   ]
  },
  {
   "cell_type": "code",
   "execution_count": 39,
   "metadata": {},
   "outputs": [
    {
     "name": "stdout",
     "output_type": "stream",
     "text": [
      "Experimento com 270 neurônios:\n",
      "Parameters: p=270, eta=0.1, lambda=9.184489795918367\n",
      "********* Results ELM-IMA 0.2**************\n",
      "Acc train: 0.8202+/-0.0536\n",
      "Acc test: 0.8074+/-0.1071\n",
      "Iterations: 108.2000+/-24.5471\n",
      "Iterations IMA: 20.0000+/-0.0000\n",
      "Updates: 1875.3000+/-201.3490\n",
      "Margin: 0.000000000+/-0.000000000\n",
      "Hidden Neurons: 66.80+/-11.69\n",
      "********* Results ELM-IMA 0.1**************\n",
      "Acc train: 0.8317+/-0.0203\n",
      "Acc test: 0.7963+/-0.0727\n",
      "Iterations: 115.7000+/-38.5488\n",
      "Iterations IMA: 20.0000+/-0.0000\n",
      "Updates: 2047.8000+/-310.7037\n",
      "Margin: 0.000000000+/-0.000000000\n",
      "Hidden Neurons: 111.40+/-17.47\n",
      "********* Results ELM-IMA 0.01**************\n",
      "Acc train: 0.8346+/-0.0153\n",
      "Acc test: 0.8037+/-0.0723\n",
      "Iterations: 111.0000+/-20.7654\n",
      "Iterations IMA: 20.0000+/-0.0000\n",
      "Updates: 2262.5000+/-334.1590\n",
      "Margin: 0.000000000+/-0.000000000\n",
      "Hidden Neurons: 184.50+/-11.83\n",
      "********* Results ELM-IMA 0.001**************\n",
      "Acc train: 0.8391+/-0.0226\n",
      "Acc test: 0.8185+/-0.0914\n",
      "Iterations: 111.1000+/-27.8763\n",
      "Iterations IMA: 20.0000+/-0.0000\n",
      "Updates: 2306.7000+/-294.9719\n",
      "Margin: 0.000000000+/-0.000000000\n",
      "Hidden Neurons: 245.70+/-6.77\n",
      "********* Results ELM **************\n",
      "Acc train: 1.0000+/-0.0000\n",
      "Acc test: 0.5370+/-0.1378\n",
      "Margin: 0.000000894+/-0.000000327\n",
      "\n",
      "\n",
      "\n"
     ]
    }
   ],
   "source": [
    "statlog_dataset = pd.read_csv('data/statlog/heart.dat', sep=\" \", header=None, engine='python')\n",
    "y = statlog_dataset[13].to_numpy()\n",
    "X = statlog_dataset.drop([13], axis='columns').to_numpy()\n",
    "y[np.where(y==2)] = -1\n",
    "y = np.array(y.tolist())\n",
    "run(X, y)"
   ]
  },
  {
   "cell_type": "markdown",
   "metadata": {},
   "source": [
    "## Application on Mammographic Dataset"
   ]
  },
  {
   "cell_type": "code",
   "execution_count": 40,
   "metadata": {},
   "outputs": [
    {
     "name": "stdout",
     "output_type": "stream",
     "text": [
      "Experimento com 830 neurônios:\n",
      "Parameters: p=830, eta=0.1, lambda=4.495306122448979\n",
      "********* Results ELM-IMA 0.2**************\n",
      "Acc train: 0.7114+/-0.0954\n",
      "Acc test: 0.7169+/-0.0926\n",
      "Iterations: 294.0000+/-108.9413\n",
      "Iterations IMA: 20.0000+/-0.0000\n",
      "Updates: 15554.0000+/-4081.2096\n",
      "Margin: 0.000000000+/-0.000000000\n",
      "Hidden Neurons: 199.00+/-22.13\n",
      "********* Results ELM-IMA 0.1**************\n",
      "Acc train: 0.7438+/-0.0561\n",
      "Acc test: 0.7578+/-0.0712\n",
      "Iterations: 354.2000+/-154.9966\n",
      "Iterations IMA: 20.0000+/-0.0000\n",
      "Updates: 19994.0000+/-4495.7206\n",
      "Margin: 0.000000000+/-0.000000000\n",
      "Hidden Neurons: 327.00+/-29.07\n",
      "********* Results ELM-IMA 0.01**************\n",
      "Acc train: 0.7763+/-0.0418\n",
      "Acc test: 0.7723+/-0.0648\n",
      "Iterations: 206.9000+/-86.8406\n",
      "Iterations IMA: 20.0000+/-0.0000\n",
      "Updates: 17874.3000+/-5344.4924\n",
      "Margin: 0.000000000+/-0.000000000\n",
      "Hidden Neurons: 623.60+/-24.61\n",
      "********* Results ELM-IMA 0.001**************\n",
      "Acc train: 0.7475+/-0.0723\n",
      "Acc test: 0.7470+/-0.0803\n",
      "Iterations: 213.8000+/-44.5259\n",
      "Iterations IMA: 20.0000+/-0.0000\n",
      "Updates: 19518.7000+/-3661.8571\n",
      "Margin: 0.000000000+/-0.000000000\n",
      "Hidden Neurons: 778.90+/-10.29\n",
      "********* Results ELM **************\n",
      "Acc train: 0.8870+/-0.0051\n",
      "Acc test: 0.7892+/-0.0558\n",
      "Margin: 0.000000000+/-0.000000000\n",
      "\n",
      "\n",
      "\n"
     ]
    }
   ],
   "source": [
    "mammo = pd.read_csv('data/mammographic/mammographic_masses.data', sep=\",\", header=None, engine='python')\n",
    "mammo = mammo.replace(\"?\", np.nan)\n",
    "mammo = mammo.dropna()\n",
    "y = mammo[5].to_numpy()\n",
    "X = mammo.drop([5], axis='columns').to_numpy()\n",
    "y[np.where(y==0)] = -1\n",
    "y = np.array(y.tolist())\n",
    "run(X, y)"
   ]
  },
  {
   "cell_type": "markdown",
   "metadata": {},
   "source": [
    "## Application on Haberman Dataset"
   ]
  },
  {
   "cell_type": "code",
   "execution_count": 41,
   "metadata": {},
   "outputs": [
    {
     "name": "stdout",
     "output_type": "stream",
     "text": [
      "Experimento com 306 neurônios:\n",
      "Parameters: p=306, eta=0.1, lambda=0.21387755102040817\n",
      "********* Results ELM-IMA 0.2**************\n",
      "Acc train: 0.7190+/-0.0639\n",
      "Acc test: 0.7220+/-0.0506\n",
      "Iterations: 169.3000+/-63.2788\n",
      "Iterations IMA: 3.8000+/-1.6613\n",
      "Updates: 17088.9000+/-3829.2253\n",
      "Margin: 0.000000000+/-0.000000000\n",
      "Hidden Neurons: 51.40+/-55.45\n",
      "********* Results ELM-IMA 0.1**************\n",
      "Acc train: 0.7357+/-0.0013\n",
      "Acc test: 0.7353+/-0.0094\n",
      "Iterations: 209.8000+/-106.7612\n",
      "Iterations IMA: 3.5000+/-0.9220\n",
      "Updates: 18265.8000+/-4967.2179\n",
      "Margin: 0.000000000+/-0.000000000\n",
      "Hidden Neurons: 102.50+/-69.17\n",
      "********* Results ELM-IMA 0.01**************\n",
      "Acc train: 0.7360+/-0.0017\n",
      "Acc test: 0.7353+/-0.0094\n",
      "Iterations: 185.5000+/-57.7274\n",
      "Iterations IMA: 3.3000+/-1.2689\n",
      "Updates: 19133.6000+/-4173.9754\n",
      "Margin: 0.000000000+/-0.000000000\n",
      "Hidden Neurons: 241.00+/-45.16\n",
      "********* Results ELM-IMA 0.001**************\n",
      "Acc train: 0.7357+/-0.0021\n",
      "Acc test: 0.7353+/-0.0094\n",
      "Iterations: 177.9000+/-53.7707\n",
      "Iterations IMA: 3.2000+/-0.9798\n",
      "Updates: 18916.6000+/-4306.1754\n",
      "Margin: 0.000000000+/-0.000000000\n",
      "Hidden Neurons: 292.50+/-14.99\n",
      "********* Results ELM **************\n",
      "Acc train: 0.8344+/-0.0099\n",
      "Acc test: 0.6930+/-0.0782\n",
      "Margin: 0.000000000+/-0.000000000\n",
      "\n",
      "\n",
      "\n"
     ]
    }
   ],
   "source": [
    "haberman = pd.read_csv('data/haberman/haberman.data', sep=\",\", header=None, engine='python')\n",
    "y = haberman[3].to_numpy()\n",
    "X = haberman.drop([3], axis='columns').to_numpy()\n",
    "y[np.where(y==2)] = -1\n",
    "y = np.array(y.tolist())\n",
    "run(X, y)"
   ]
  },
  {
   "cell_type": "markdown",
   "metadata": {},
   "source": [
    "## Application on Transfusion Dataset"
   ]
  },
  {
   "cell_type": "code",
   "execution_count": 42,
   "metadata": {},
   "outputs": [
    {
     "name": "stdout",
     "output_type": "stream",
     "text": [
      "Experimento com 748 neurônios:\n",
      "Parameters: p=748, eta=0.1, lambda=0.21387755102040817\n",
      "********* Results ELM-IMA 0.2**************\n",
      "Acc train: 0.7620+/-0.0005\n",
      "Acc test: 0.7621+/-0.0041\n",
      "Iterations: 106.9000+/-85.4207\n",
      "Iterations IMA: 1.0000+/-0.0000\n",
      "Updates: 10105.8000+/-70.6227\n",
      "Margin: 0.000000000+/-0.000000000\n",
      "Hidden Neurons: 748.00+/-0.00\n",
      "********* Results ELM-IMA 0.1**************\n",
      "Acc train: 0.7620+/-0.0005\n",
      "Acc test: 0.7621+/-0.0041\n",
      "Iterations: 106.9000+/-85.4207\n",
      "Iterations IMA: 1.0000+/-0.0000\n",
      "Updates: 10105.8000+/-70.6227\n",
      "Margin: 0.000000000+/-0.000000000\n",
      "Hidden Neurons: 748.00+/-0.00\n",
      "********* Results ELM-IMA 0.01**************\n",
      "Acc train: 0.7620+/-0.0005\n",
      "Acc test: 0.7621+/-0.0041\n",
      "Iterations: 106.9000+/-85.4207\n",
      "Iterations IMA: 1.0000+/-0.0000\n",
      "Updates: 10105.8000+/-70.6227\n",
      "Margin: 0.000000000+/-0.000000000\n",
      "Hidden Neurons: 748.00+/-0.00\n",
      "********* Results ELM-IMA 0.001**************\n",
      "Acc train: 0.7620+/-0.0005\n",
      "Acc test: 0.7621+/-0.0041\n",
      "Iterations: 106.9000+/-85.4207\n",
      "Iterations IMA: 1.0000+/-0.0000\n",
      "Updates: 10105.8000+/-70.6227\n",
      "Margin: 0.000000000+/-0.000000000\n",
      "Hidden Neurons: 748.00+/-0.00\n",
      "********* Results ELM **************\n",
      "Acc train: 0.8246+/-0.0048\n",
      "Acc test: 0.7619+/-0.0377\n",
      "Margin: 0.000000000+/-0.000000000\n",
      "\n",
      "\n",
      "\n"
     ]
    }
   ],
   "source": [
    "transfusion = pd.read_csv('data/transfusion/transfusion.data', sep=\",\", engine='python')\n",
    "y = transfusion[\"whether he/she donated blood in March 2007\"].to_numpy()\n",
    "X = transfusion.drop([\"whether he/she donated blood in March 2007\"], axis='columns').to_numpy()\n",
    "y[np.where(y==0)] = -1\n",
    "y = np.array(y.tolist())\n",
    "run(X, y)"
   ]
  },
  {
   "cell_type": "markdown",
   "metadata": {},
   "source": [
    "## Application on Australian Credit "
   ]
  },
  {
   "cell_type": "code",
   "execution_count": 43,
   "metadata": {},
   "outputs": [
    {
     "name": "stdout",
     "output_type": "stream",
     "text": [
      "Experimento com 690 neurônios:\n",
      "Parameters: p=690, eta=0.1, lambda=9.388367346938775\n",
      "********* Results ELM-IMA 0.2**************\n",
      "Acc train: 0.8385+/-0.0305\n",
      "Acc test: 0.8348+/-0.0551\n",
      "Iterations: 244.9000+/-125.8876\n",
      "Iterations IMA: 20.0000+/-0.0000\n",
      "Updates: 5993.5000+/-1433.5135\n",
      "Margin: 0.000000000+/-0.000000000\n",
      "Hidden Neurons: 190.00+/-32.88\n",
      "********* Results ELM-IMA 0.1**************\n",
      "Acc train: 0.8269+/-0.0379\n",
      "Acc test: 0.8391+/-0.0397\n",
      "Iterations: 188.0000+/-95.3216\n",
      "Iterations IMA: 20.0000+/-0.0000\n",
      "Updates: 6432.0000+/-1892.4567\n",
      "Margin: 0.000000000+/-0.000000000\n",
      "Hidden Neurons: 324.90+/-38.05\n",
      "********* Results ELM-IMA 0.01**************\n",
      "Acc train: 0.8403+/-0.0289\n",
      "Acc test: 0.8275+/-0.0516\n",
      "Iterations: 174.6000+/-58.6467\n",
      "Iterations IMA: 20.0000+/-0.0000\n",
      "Updates: 7194.0000+/-1687.9887\n",
      "Margin: 0.000000000+/-0.000000000\n",
      "Hidden Neurons: 502.60+/-36.78\n",
      "********* Results ELM-IMA 0.001**************\n",
      "Acc train: 0.8329+/-0.0260\n",
      "Acc test: 0.8319+/-0.0527\n",
      "Iterations: 173.0000+/-48.8938\n",
      "Iterations IMA: 20.0000+/-0.0000\n",
      "Updates: 7443.6000+/-1591.4674\n",
      "Margin: 0.000000000+/-0.000000000\n",
      "Hidden Neurons: 646.70+/-18.37\n",
      "********* Results ELM **************\n",
      "Acc train: 1.0000+/-0.0000\n",
      "Acc test: 0.5116+/-0.0449\n",
      "Margin: 0.000000003+/-0.000000002\n",
      "\n",
      "\n",
      "\n"
     ]
    }
   ],
   "source": [
    "australian = pd.read_csv('data/australian_credit/australian.dat', header=None, sep=\" \", engine='python')\n",
    "australian = australian.replace(\"?\", np.nan)\n",
    "australian = australian.dropna()\n",
    "y = australian[14].to_numpy()\n",
    "X = australian.drop([14], axis='columns').to_numpy()\n",
    "y[np.where(y==0)] = -1\n",
    "y = np.array(y.tolist())\n",
    "run(X, y)"
   ]
  },
  {
   "cell_type": "markdown",
   "metadata": {},
   "source": [
    "## Application on Breast Cancer Dataset"
   ]
  },
  {
   "cell_type": "code",
   "execution_count": 44,
   "metadata": {},
   "outputs": [
    {
     "name": "stdout",
     "output_type": "stream",
     "text": [
      "Experimento com 683 neurônios:\n",
      "Parameters: p=683, eta=0.1, lambda=6.534081632653061\n",
      "********* Results ELM-IMA 0.2**************\n",
      "Acc train: 0.9608+/-0.0098\n",
      "Acc test: 0.9619+/-0.0229\n",
      "Iterations: 133.3000+/-33.0607\n",
      "Iterations IMA: 20.0000+/-0.0000\n",
      "Updates: 1446.7000+/-223.0220\n",
      "Margin: 0.000000000+/-0.000000000\n",
      "Hidden Neurons: 190.50+/-37.12\n",
      "********* Results ELM-IMA 0.1**************\n",
      "Acc train: 0.9597+/-0.0114\n",
      "Acc test: 0.9531+/-0.0254\n",
      "Iterations: 168.9000+/-61.3897\n",
      "Iterations IMA: 20.0000+/-0.0000\n",
      "Updates: 1887.1000+/-424.8944\n",
      "Margin: 0.000000000+/-0.000000000\n",
      "Hidden Neurons: 289.30+/-59.35\n",
      "********* Results ELM-IMA 0.01**************\n",
      "Acc train: 0.9623+/-0.0092\n",
      "Acc test: 0.9531+/-0.0261\n",
      "Iterations: 140.1000+/-39.4574\n",
      "Iterations IMA: 20.0000+/-0.0000\n",
      "Updates: 1863.6000+/-405.3690\n",
      "Margin: 0.000000000+/-0.000000000\n",
      "Hidden Neurons: 467.70+/-39.37\n",
      "********* Results ELM-IMA 0.001**************\n",
      "Acc train: 0.9632+/-0.0091\n",
      "Acc test: 0.9546+/-0.0266\n",
      "Iterations: 162.0000+/-53.3648\n",
      "Iterations IMA: 20.0000+/-0.0000\n",
      "Updates: 2156.9000+/-586.7430\n",
      "Margin: 0.000000000+/-0.000000000\n",
      "Hidden Neurons: 607.30+/-42.97\n",
      "********* Results ELM **************\n",
      "Acc train: 1.0000+/-0.0000\n",
      "Acc test: 0.8433+/-0.0250\n",
      "Margin: 0.000000014+/-0.000000002\n",
      "\n",
      "\n",
      "\n"
     ]
    }
   ],
   "source": [
    "breast = pd.read_csv('data/breast/breast.data', header=None, sep=\",\", engine='python')\n",
    "breast = breast.replace(\"?\", np.nan)\n",
    "breast = breast.dropna()\n",
    "y = breast[10].to_numpy()\n",
    "X = breast.drop([0, 10], axis='columns').to_numpy()\n",
    "y[np.where(y==4)] = 1\n",
    "y[np.where(y==2)] = -1\n",
    "y = np.array(y.tolist())\n",
    "run(X, y)"
   ]
  },
  {
   "cell_type": "markdown",
   "metadata": {},
   "source": [
    "## Application on Spam Dataset"
   ]
  },
  {
   "cell_type": "code",
   "execution_count": 45,
   "metadata": {},
   "outputs": [],
   "source": [
    "#spam = pd.read_csv('data/spam/spambase.data', header=None, sep=\",\", engine='python')\n",
    "#y = spam[57].to_numpy()\n",
    "#X = spam.drop([57], axis='columns').to_numpy()\n",
    "#y[np.where(y==0)] = -1\n",
    "#y = np.array(y.tolist())\n",
    "#run(X, y)"
   ]
  },
  {
   "cell_type": "markdown",
   "metadata": {},
   "source": [
    "## Application on Glass Dataset"
   ]
  },
  {
   "cell_type": "code",
   "execution_count": 46,
   "metadata": {},
   "outputs": [
    {
     "name": "stdout",
     "output_type": "stream",
     "text": [
      "Experimento com 214 neurônios:\n",
      "Parameters: p=214, eta=0.1, lambda=4.6991836734693875\n",
      "********* Results ELM-IMA 0.2**************\n",
      "Acc train: 0.6791+/-0.0184\n",
      "Acc test: 0.6818+/-0.0311\n",
      "Iterations: 356.5000+/-240.2541\n",
      "Iterations IMA: 6.8000+/-5.0557\n",
      "Updates: 10023.5000+/-2620.3880\n",
      "Margin: 0.000000000+/-0.000000000\n",
      "Hidden Neurons: 28.70+/-15.61\n",
      "********* Results ELM-IMA 0.1**************\n",
      "Acc train: 0.6444+/-0.1073\n",
      "Acc test: 0.6303+/-0.1107\n",
      "Iterations: 247.4000+/-87.7932\n",
      "Iterations IMA: 10.9000+/-7.5690\n",
      "Updates: 7644.4000+/-4298.6631\n",
      "Margin: 0.000000000+/-0.000000000\n",
      "Hidden Neurons: 62.40+/-26.90\n",
      "********* Results ELM-IMA 0.01**************\n",
      "Acc train: 0.6807+/-0.0231\n",
      "Acc test: 0.6773+/-0.0180\n",
      "Iterations: 298.6000+/-191.7035\n",
      "Iterations IMA: 7.8000+/-5.2307\n",
      "Updates: 10619.2000+/-2857.2152\n",
      "Margin: 0.000000000+/-0.000000000\n",
      "Hidden Neurons: 149.30+/-42.16\n",
      "********* Results ELM-IMA 0.001**************\n",
      "Acc train: 0.6864+/-0.0274\n",
      "Acc test: 0.6825+/-0.0442\n",
      "Iterations: 252.9000+/-69.0151\n",
      "Iterations IMA: 8.3000+/-6.4195\n",
      "Updates: 9582.7000+/-3617.5533\n",
      "Margin: 0.000000000+/-0.000000000\n",
      "Hidden Neurons: 204.50+/-6.99\n",
      "********* Results ELM **************\n",
      "Acc train: 1.0000+/-0.0000\n",
      "Acc test: 0.5240+/-0.0813\n",
      "Margin: 0.000000000+/-0.000000000\n",
      "\n",
      "\n",
      "\n"
     ]
    }
   ],
   "source": [
    "# Loading dataset:\n",
    "headers = [\"Id\", \"RI\", \"Na\", \"Mg\", \"Al\", \"Si\", \"K\", \"Ca\", \"Ba\", \"Fe\", \"Class\"]\n",
    "df = pd.read_csv(\"~/Documents/UFMG/Graduation/10/Reconhecimento de padrões/list/pattern-recognition-exercises/list_5/databases/glass.csv\", names = headers)\n",
    "X = df.drop(\"Class\", axis=1)\n",
    "X = X.drop(\"Id\", axis=1)\n",
    "y = df[\"Class\"]\n",
    "X = X.to_numpy()\n",
    "y = y.to_numpy()\n",
    "y[np.where(y>1)] = -1\n",
    "run(X, y)"
   ]
  }
 ],
 "metadata": {
  "accelerator": "TPU",
  "celltoolbar": "Raw Cell Format",
  "colab": {
   "collapsed_sections": [],
   "name": "Large_Margin_Perceptron.ipynb",
   "provenance": []
  },
  "kernelspec": {
   "display_name": "Python 3",
   "language": "python",
   "name": "python3"
  },
  "language_info": {
   "codemirror_mode": {
    "name": "ipython",
    "version": 3
   },
   "file_extension": ".py",
   "mimetype": "text/x-python",
   "name": "python",
   "nbconvert_exporter": "python",
   "pygments_lexer": "ipython3",
   "version": "3.6.7"
  }
 },
 "nbformat": 4,
 "nbformat_minor": 1
}
